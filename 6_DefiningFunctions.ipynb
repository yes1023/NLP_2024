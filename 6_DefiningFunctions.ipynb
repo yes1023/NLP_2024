{
  "nbformat": 4,
  "nbformat_minor": 0,
  "metadata": {
    "colab": {
      "provenance": [],
      "include_colab_link": true
    },
    "kernelspec": {
      "name": "python3",
      "display_name": "Python 3"
    },
    "language_info": {
      "name": "python"
    }
  },
  "cells": [
    {
      "cell_type": "markdown",
      "metadata": {
        "id": "view-in-github",
        "colab_type": "text"
      },
      "source": [
        "<a href=\"https://colab.research.google.com/github/yes1023/NLP_2024/blob/main/6_DefiningFunctions.ipynb\" target=\"_parent\"><img src=\"https://colab.research.google.com/assets/colab-badge.svg\" alt=\"Open In Colab\"/></a>"
      ]
    },
    {
      "cell_type": "markdown",
      "source": [
        "## **Function 함수**"
      ],
      "metadata": {
        "id": "Z7LCdzhzPZdZ"
      }
    },
    {
      "cell_type": "code",
      "execution_count": null,
      "metadata": {
        "id": "v-gjA5sdhg68"
      },
      "outputs": [],
      "source": [
        "#1. string argument 문자열 인자\n",
        "\n",
        "def add_txt(t1, t2):    #string을 이용했을 때, 리턴값이 있는 함수 예시\n",
        "    t_result = t1 + t2\n",
        "    return t_result\n"
      ]
    },
    {
      "cell_type": "code",
      "source": [
        "def add_txt(t1, t2):\n",
        "    t_result = t1 + t2\n",
        "    return t_result"
      ],
      "metadata": {
        "id": "s4KEWfl9yGsf"
      },
      "execution_count": null,
      "outputs": []
    },
    {
      "cell_type": "code",
      "source": [
        "def add_txt(t1, t2):\n",
        "    result = t1 + t2\n",
        "    return result\n",
        "\n",
        "text1 = \"Hello, \"\n",
        "text2 = \"World!\"\n",
        "\n",
        "combined_text = add_txt(text1,text2)\n",
        "\n",
        "print(combined_text)"
      ],
      "metadata": {
        "id": "FCyZWnq1yr8C",
        "outputId": "2f9fbfbd-6fd8-41de-8758-82e67da86e11",
        "colab": {
          "base_uri": "https://localhost:8080/"
        }
      },
      "execution_count": null,
      "outputs": [
        {
          "output_type": "stream",
          "name": "stdout",
          "text": [
            "Hello, World!\n"
          ]
        }
      ]
    },
    {
      "cell_type": "code",
      "source": [
        "#1.a\n",
        "\n",
        "def add_txt(t1, t2):\n",
        "  result = t1 + t2\n",
        "  return result\n",
        "\n",
        "# Define two strings as arguments\n",
        "text1 = \"Hello, \"\n",
        "text2 = \"World!\"\n",
        "\n",
        "# Calling the add_txt function with the defined arguments\n",
        "combined_text = add_txt(text1, text2)\n",
        "\n",
        "# Printing the result\n",
        "print(combined_text)"
      ],
      "metadata": {
        "id": "fGQY9jpNTqPe",
        "outputId": "92f1f7ec-1cf7-4782-855e-c09205a9e896",
        "colab": {
          "base_uri": "https://localhost:8080/"
        }
      },
      "execution_count": null,
      "outputs": [
        {
          "output_type": "stream",
          "name": "stdout",
          "text": [
            "Hello, World!\n"
          ]
        }
      ]
    },
    {
      "cell_type": "markdown",
      "source": [
        "# 🆘 ⤵️\n",
        "When the function does **not** return result explicitly using the return statement, you just call the add_txt function with text1 and text2 as arguments. If so, it concatenates them and stores the result in result, but it doesn't return anything. Consequently, combined_text receives the value None, as that is what the function implicitly returns."
      ],
      "metadata": {
        "id": "jWiXqWEjIJRI"
      }
    },
    {
      "cell_type": "code",
      "source": [
        "#1.b  Compare!\n",
        "\n",
        "def add_txt(t1, t2):\n",
        "    result = t1 + t2\n",
        "\n",
        "# Define two strings as arguments\n",
        "text1 = \"Hello, \"\n",
        "text2 = \"World!\"\n",
        "\n",
        "# Calling the add_txt function with the defined arguments\n",
        "combined_text = add_txt(text1, text2)\n",
        "\n",
        "# Printing the result\n",
        "print(combined_text)"
      ],
      "metadata": {
        "id": "VQyVhf32GypZ",
        "outputId": "f50198c4-7ee5-4bf1-c54c-0703252e7d29",
        "colab": {
          "base_uri": "https://localhost:8080/"
        }
      },
      "execution_count": null,
      "outputs": [
        {
          "output_type": "stream",
          "name": "stdout",
          "text": [
            "None\n"
          ]
        }
      ]
    },
    {
      "cell_type": "code",
      "source": [
        "def add_number(n1,n2):\n",
        "  n_result = n1 + n2\n",
        "  #return n_result\n",
        "\n",
        "num1 = 10\n",
        "num2 = 20\n",
        "\n",
        "add_nums = add_number(num1, num2)\n",
        "print(add_nums)"
      ],
      "metadata": {
        "id": "hO8-cvAZ1ct4",
        "outputId": "727279a5-8bfc-41b2-8ec5-ed6498925e06",
        "colab": {
          "base_uri": "https://localhost:8080/"
        }
      },
      "execution_count": null,
      "outputs": [
        {
          "output_type": "stream",
          "name": "stdout",
          "text": [
            "None\n"
          ]
        }
      ]
    },
    {
      "cell_type": "code",
      "source": [
        "#2 number argument 숫자 인자\n",
        "def add_number(n1,n2):\n",
        "  n_result = (n1 + n2)  #numbers를 이용했을 때, 리턴값이 없는 함수 예시\n",
        "  return n_result"
      ],
      "metadata": {
        "id": "4Qn6vIvCXctB"
      },
      "execution_count": null,
      "outputs": []
    },
    {
      "cell_type": "code",
      "source": [
        "#2a number arguments with return\n",
        "\n",
        "def add_number(n1,n2):\n",
        "  n_result = n1 + n2\n",
        "  return n_result\n",
        "\n",
        "num1 = 10\n",
        "num2 = 20\n",
        "\n",
        "add_nums = add_number(num1, num2)\n",
        "print(add_nums)"
      ],
      "metadata": {
        "id": "p9_K7wO1bexs",
        "outputId": "191c8f78-1f2b-4a0d-8ff8-5b42e1433b53",
        "colab": {
          "base_uri": "https://localhost:8080/"
        }
      },
      "execution_count": null,
      "outputs": [
        {
          "output_type": "stream",
          "name": "stdout",
          "text": [
            "30\n"
          ]
        }
      ]
    },
    {
      "cell_type": "code",
      "source": [
        "#2b number arguments without return\n",
        "\n",
        "def add_number(n1,n2):\n",
        "  result = n1 + n2     #numbers를 이용했을 때, 리턴값이 없는 함수 예시\n",
        "\n",
        "num1 = 100\n",
        "num2 = 200\n",
        "\n",
        "add_nums = add_number(num1, num2)\n",
        "print(add_nums)"
      ],
      "metadata": {
        "id": "t2_ny90Wb5Nl",
        "outputId": "7ffab10e-e1b5-4383-8b2f-d20e5b3f697f",
        "colab": {
          "base_uri": "https://localhost:8080/"
        }
      },
      "execution_count": null,
      "outputs": [
        {
          "output_type": "stream",
          "name": "stdout",
          "text": [
            "None\n"
          ]
        }
      ]
    },
    {
      "cell_type": "markdown",
      "source": [
        "### **Return** statement in a function\n",
        "\n",
        "- Functions with a <font color = 'red'>return</font> statement produce <font color = 'red'> a value as its result</font>, and the function execution stops at that point.\n",
        "- Functions without a return statement still execute but implicitly return <font color = 'blue'> None.</font>\n",
        "- Whether to use a return statement depends on _whether you want the function to produce a value_ <font color = 'red'>**that can be used elsewhere**</font> in your code. If you don't need to return a result, not having a return statement is perfectly fine."
      ],
      "metadata": {
        "id": "RexAen-aOyMx"
      }
    },
    {
      "cell_type": "markdown",
      "source": [
        "## 🐹🐾 **Place holders<font color = 'gray'>(자리 표시자)**\n",
        "  - %d and %s are placeholders used for string formatting.\n",
        "  - They are used in strings to represent where you want to insert specific values, such as numbers or strings. Here's what they mean:\n",
        "\n",
        "    - <font color = 'red'> %d: This is a placeholder for formatting **integers (decimal integers)**. When you use %d in a string, it's _replaced with an integer value_.</font>\n",
        "\n",
        "    - <font color = 'green'> %s: This is a placeholder for formatting **strings**. When you use %s in a string, it's _replaced with a string value_.\n",
        "\n"
      ],
      "metadata": {
        "id": "725iuSrMwFlJ"
      }
    },
    {
      "cell_type": "code",
      "source": [
        "name = \"Alice\"\n",
        "score = 95\n",
        "age = 18\n",
        "\n",
        "test_result = \"You scored %d on the test.\" %score\n",
        "print(test_result)\n",
        "\n",
        "greeting = \"Hello, %s! You turn to finally %d years old finally.\" %(name, age)\n",
        "print(greeting)\n",
        "print('\\n')\n",
        "\n",
        "print(\"You scored %d on the test.\" %score)\n",
        "print(\"Hello, %s! You turn to finally %d years old finally.\" %(name, age))"
      ],
      "metadata": {
        "id": "hMuDgNSE22fK",
        "outputId": "e6b0c4b9-c03d-4110-9e19-40fb849cbd37",
        "colab": {
          "base_uri": "https://localhost:8080/"
        }
      },
      "execution_count": null,
      "outputs": [
        {
          "output_type": "stream",
          "name": "stdout",
          "text": [
            "You scored 95 on the test.\n",
            "Hello, Alice! You turn to finally 18 years old finally.\n",
            "\n",
            "\n",
            "You scored 95 on the test.\n",
            "Hello, Alice! You turn to finally 18 years old finally.\n"
          ]
        }
      ]
    },
    {
      "cell_type": "code",
      "source": [
        "#3. Example of place holders such as %d and %s\n",
        "\n",
        "name = \"Alice\"\n",
        "score = 95\n",
        "age = 18\n",
        "\n",
        "# Using %s and %d for string formatting\n",
        "test_result = \"You scored %d on the test.\" %score\n",
        "print(test_result)\n",
        "\n",
        "greeting = \"Hello, %s! You turn to finally %d years old finally.\" %(name, age)\n",
        "print(greeting)\n",
        "print('\\n')\n",
        "\n",
        "#Alternatively\n",
        "print(\"You scored %d on the test.\" %score)\n",
        "print(\"Hello, %s! You turn to finally %d years old finally.\" %(name, age))"
      ],
      "metadata": {
        "id": "icGcG4O3wMof",
        "outputId": "a77e9b7e-3980-4897-fd40-fa73055ecc03",
        "colab": {
          "base_uri": "https://localhost:8080/"
        }
      },
      "execution_count": null,
      "outputs": [
        {
          "output_type": "stream",
          "name": "stdout",
          "text": [
            "You scored 95 on the test.\n",
            "Hello, Alice! You turn to finally 18 years old finally.\n",
            "\n",
            "\n",
            "You scored 95 on the test.\n",
            "Hello, Alice! You turn to finally 18 years old finally.\n"
          ]
        }
      ]
    },
    {
      "cell_type": "code",
      "source": [
        "def add(a, b):\n",
        "    result = a + b\n",
        "    return result\n",
        "\n",
        "num1 = 5\n",
        "num2 = 3\n",
        "\n",
        "sum_result = add(num1, num2)\n",
        "\n",
        "\n",
        "print(\"The sum of %d and %d is %d\" % (num1, num2, sum_result))"
      ],
      "metadata": {
        "id": "eGXYKQEI8t8W",
        "outputId": "f201d5a1-7171-49dd-e0fa-0aada2cc5831",
        "colab": {
          "base_uri": "https://localhost:8080/"
        }
      },
      "execution_count": 3,
      "outputs": [
        {
          "output_type": "stream",
          "name": "stdout",
          "text": [
            "The sum of 5 and 3 is 8\n"
          ]
        }
      ]
    },
    {
      "cell_type": "code",
      "source": [
        "#3b\n",
        "\n",
        "def add(a, b):\n",
        "    result = a + b\n",
        "    return result\n",
        "\n",
        "#Your data input\n",
        "num1 = 5\n",
        "num2 = 3\n",
        "\n",
        "sum_result = add(num1, num2)\n",
        "\n",
        "# Using the % operator for string formatting\n",
        "\n",
        "print(\"The sum of %d and %d is %d\" % (num1, num2, sum_result))"
      ],
      "metadata": {
        "id": "jDpKRpftWT0e",
        "outputId": "0b3758f6-f354-4cc8-d3c6-400725806ff8",
        "colab": {
          "base_uri": "https://localhost:8080/"
        }
      },
      "execution_count": null,
      "outputs": [
        {
          "output_type": "stream",
          "name": "stdout",
          "text": [
            "The sum of 5 and 3 is 8\n"
          ]
        }
      ]
    },
    {
      "cell_type": "code",
      "source": [
        "def add_and_print(a, b):\n",
        "    result = a + b\n",
        "    print(\"The sum of %d and %d is %d\" %(a, b, result))\n",
        "    return result\n",
        "\n",
        "sum_result = add_and_print(3, 4)"
      ],
      "metadata": {
        "id": "HmEHeYE4-Xb7",
        "outputId": "605c9c5e-36d6-419c-cd7d-456c7064e3a1",
        "colab": {
          "base_uri": "https://localhost:8080/"
        }
      },
      "execution_count": 6,
      "outputs": [
        {
          "output_type": "stream",
          "name": "stdout",
          "text": [
            "The sum of 3 and 4 is 7\n"
          ]
        }
      ]
    },
    {
      "cell_type": "code",
      "source": [
        "#3b'\n",
        "\n",
        "def add_and_print(a, b):\n",
        "    result = a + b\n",
        "    print(\"The sum of %d and %d is %d\" %(a, b, result))\n",
        "    return result\n",
        "\n",
        "# Call the function 'add_and_print(a,b)'\n",
        "sum_result = add_and_print(3, 4)"
      ],
      "metadata": {
        "id": "XNsEX5ijVCBJ",
        "outputId": "4d752c33-7190-4f44-a370-5b0d20e25c0c",
        "colab": {
          "base_uri": "https://localhost:8080/"
        }
      },
      "execution_count": 5,
      "outputs": [
        {
          "output_type": "stream",
          "name": "stdout",
          "text": [
            "The sum of 3 and 4 is 7\n"
          ]
        }
      ]
    },
    {
      "cell_type": "markdown",
      "source": [
        "##### ⚡ 키워드 인자: 함수 호출 때 괄호 안에 등호를 사용하여 표시할 때 이를 <font color = 'red'> **키워드 인자**</font>라고 한다. 예시 add_txt1(t1='My friend', t2='Python')\n",
        "##### ⚡ <font color = 'red'> **기본 인자**</font>, e.g., t2='Python': 함수 호출 때 t2 위치에 실제 값을 전달하지 않아도 'Python'이 기본값으로 대입됨\n"
      ],
      "metadata": {
        "id": "pgqX3r2RVFyE"
      }
    },
    {
      "cell_type": "code",
      "source": [
        "def add_txt1(t1, t2 = 'Python'):\n",
        "  print(t1 + ':' + t2)\n",
        "\n",
        "add_txt1('Best')\n",
        "add_txt1(t1 = 'My friend', t2 = 'Python')\n",
        "add_txt1(t1 = 'My buddy')"
      ],
      "metadata": {
        "id": "KevP6CZT_eIz",
        "outputId": "3c15a2f2-b4c7-4735-a94c-97b32e3ef1ce",
        "colab": {
          "base_uri": "https://localhost:8080/"
        }
      },
      "execution_count": 12,
      "outputs": [
        {
          "output_type": "stream",
          "name": "stdout",
          "text": [
            "Best:Python\n",
            "My friend:Python\n",
            "My buddy:Python\n"
          ]
        }
      ]
    },
    {
      "cell_type": "code",
      "source": [
        "# 위의 함수 정의 및 호출 이해 완료\n",
        "def add_txt1(t1,t2='Python'): #add_txt1은 t1과 t2를 ':'로 연결한 뒤 출력하는 함수다.\n",
        "  print(t1 + ':' + t2) # 연결 기호 +\n",
        "\n",
        "add_txt1('Best') #add_txt1 함수를 호출하고 있음. 기본값 t2='Python'을 사용하며 호출\n",
        "add_txt1(t1='My friend', t2='Python') #add_txt1 함수를 호출하고 있음. 인자 이름을 명시하며 (=키워드 인자를 사용하며) 호출\n",
        "add_txt1(t1='My buddy')\n",
        "\n"
      ],
      "metadata": {
        "id": "NqusozFRVQ8Z",
        "outputId": "9a901daf-5538-4981-dd44-51f467f4defd",
        "colab": {
          "base_uri": "https://localhost:8080/"
        }
      },
      "execution_count": null,
      "outputs": [
        {
          "output_type": "stream",
          "name": "stdout",
          "text": [
            "Best:Python\n",
            "My friend:Python\n",
            "My buddy:Python\n"
          ]
        }
      ]
    },
    {
      "cell_type": "markdown",
      "source": [
        "#### ⚡ **<font color = 'red'> 가변 인자 (*args) </font>**는 인자의 개수가 명확치 않을 때 사용한다.\n",
        "- #### Variable-length arguments (i.e., varargs) allow you to pass different numbers of arguments to a function, and the function can work with them flexibly.\n",
        "- #### The *args parameter collects all the positional arguments passed to the function and makes them accessible as a _tuple_ within the function.\n",
        "\n"
      ],
      "metadata": {
        "id": "SmGNZArBgZq_"
      }
    },
    {
      "cell_type": "code",
      "source": [
        "def func_uncertain(*args):\n",
        "  print(args)\n",
        "\n",
        "func_uncertain()\n",
        "\n",
        "func_uncertain(1, 2, 3)\n",
        "func_uncertain('apple', 'banana','cherry', 'date')\n",
        "func_uncertain(True)"
      ],
      "metadata": {
        "id": "orz_r9FEBGEo",
        "outputId": "ebbdbc17-1e7a-40b1-f046-6b75a74ce7bf",
        "colab": {
          "base_uri": "https://localhost:8080/"
        }
      },
      "execution_count": 17,
      "outputs": [
        {
          "output_type": "stream",
          "name": "stdout",
          "text": [
            "()\n",
            "(1, 2, 3)\n",
            "('apple', 'banana', 'cherry', 'date')\n",
            "(True,)\n"
          ]
        }
      ]
    },
    {
      "cell_type": "code",
      "source": [
        "def func_uncertain(*args):\n",
        "  print(args)\n",
        "\n",
        "func_uncertain() #*args에 아무값도 전달 안하고 함수를 호출하면 빈 튜플로 결과가 출력된다.\n",
        "\n",
        "# Calling the function with different numbers of positional arguments\n",
        "func_uncertain(1, 2, 3)\n",
        "func_uncertain('apple', 'banana', 'cherry', 'date')\n",
        "func_uncertain(True)"
      ],
      "metadata": {
        "id": "hUWjH2ZNiiTM",
        "outputId": "3a464b27-65ae-449d-850a-c93eefd12b74",
        "colab": {
          "base_uri": "https://localhost:8080/"
        }
      },
      "execution_count": null,
      "outputs": [
        {
          "output_type": "stream",
          "name": "stdout",
          "text": [
            "()\n",
            "(1, 2, 3)\n",
            "('apple', 'banana', 'cherry', 'date')\n",
            "(True,)\n"
          ]
        }
      ]
    },
    {
      "cell_type": "markdown",
      "source": [
        "#### ⚡ <font color = 'blue'> 키워드 가변 인자 (**kwargs)</font>는 차후 어떤 키워드 인자가 필요한지 미확정 되었을 때 사용한다.\n",
        "- #### A <font color = 'blue'> **keyword argument**</font>, also known as a named argument, is a way to pass arguments to a function in a way that specifies **the parameter name along with the value**. In Python, you can use keyword arguments to make function calls more explicit and self-documenting by **explicitly naming the parameters you are providing values for**.\n",
        "\n",
        "한글: 키워드 인자, 또는 명명된 인자라고도 하는 키워드 인자는 함수에 인자를 전달하는 방법으로, 값과 함께 매개변수 이름을 지정하는 방식이다. 파이썬에서는 함수 호출을 더 명시적이고 자기 설명적으로 만들기 위해 키워드 인자를 사용하여 제공하는 값에 대해 명시적으로 매개변수 이름을 지정할 수 있다."
      ],
      "metadata": {
        "id": "WXchx1DkjzML"
      }
    },
    {
      "cell_type": "code",
      "source": [
        "def func_kwa(width, height, **kwargs):\n",
        "  print(kwargs)\n",
        "\n",
        "func_kwa(10, 20)\n",
        "func_kwa(10, 20, depth = 30, color = 'blue')"
      ],
      "metadata": {
        "id": "wIuj_oHvCg1y",
        "outputId": "653ea083-b48d-4006-99ba-5db414f53960",
        "colab": {
          "base_uri": "https://localhost:8080/"
        }
      },
      "execution_count": 18,
      "outputs": [
        {
          "output_type": "stream",
          "name": "stdout",
          "text": [
            "{}\n",
            "{'depth': 30, 'color': 'blue'}\n"
          ]
        }
      ]
    },
    {
      "cell_type": "code",
      "source": [
        "def func_kwa(width, height, **kwargs):  #함수 정의 때 TWO asterisks 인 것을 주의하자. 또한 인자는 string 이 아니기 때문에 ''를 동반 사용 X\n",
        "  print(kwargs)\n",
        "\n",
        "func_kwa(10, 20) #*kwargs에 아무값도 전달 안하면서 함수를 호출하면 empty dictionary(빈 사전)로 결과가 출력된다.\n",
        "func_kwa(10, 20, depth=30, color='blue') #kwargs(키워드인자) 두 개 추가."
      ],
      "metadata": {
        "id": "fJCbIeafeFcH",
        "outputId": "269acffc-3d13-446f-e4e2-71202c8a0588",
        "colab": {
          "base_uri": "https://localhost:8080/"
        }
      },
      "execution_count": null,
      "outputs": [
        {
          "output_type": "stream",
          "name": "stdout",
          "text": [
            "{}\n",
            "{'depth': 30, 'color': 'blue'}\n"
          ]
        }
      ]
    },
    {
      "cell_type": "markdown",
      "source": [
        "#####  🌀 리스트의 요소 중 하나가 function 함수인 경우"
      ],
      "metadata": {
        "id": "od69Xw-YnZl8"
      }
    },
    {
      "cell_type": "code",
      "source": [
        "def myfunction():\n",
        "  print('Hello World!')\n",
        "\n",
        "list = [1, 2, 3, myfunction]\n",
        "\n",
        "myfunction()\n",
        "list[3]()"
      ],
      "metadata": {
        "id": "15FoBC4eD5PM",
        "outputId": "fcef7ab0-c832-4681-aede-65aabc260ce6",
        "colab": {
          "base_uri": "https://localhost:8080/"
        }
      },
      "execution_count": 22,
      "outputs": [
        {
          "output_type": "stream",
          "name": "stdout",
          "text": [
            "Hello World!\n",
            "Hello World!\n"
          ]
        }
      ]
    },
    {
      "cell_type": "code",
      "source": [
        "def myfunction():\n",
        "  print ('Hello World!')\n",
        "\n",
        "list = [1, 2, myfunction]\n",
        "\n",
        "#아래 각 코드라인에서, 리스트에서 2 번째 요소가 myfunction 함수라서, myfunction 함수에 인자 자리 ( )를 넣는 것과 list[2]( )는 같은 code line으로 볼 수 있다.\n",
        "myfunction()\n",
        "list[2]()\n"
      ],
      "metadata": {
        "id": "zwR-XAzLxXz_",
        "outputId": "0b111203-458a-4374-ad67-0a749820a750",
        "colab": {
          "base_uri": "https://localhost:8080/"
        }
      },
      "execution_count": null,
      "outputs": [
        {
          "output_type": "stream",
          "name": "stdout",
          "text": [
            "Hello World!\n",
            "Hello World!\n"
          ]
        }
      ]
    },
    {
      "cell_type": "markdown",
      "source": [
        "## 🔥🐹🐶🐤🐭 <font color = 'organge'>**Find a basic Python textbook, read and exercise the content about functions thoroughly!**"
      ],
      "metadata": {
        "id": "6gRdfX6wktcA"
      }
    }
  ]
}