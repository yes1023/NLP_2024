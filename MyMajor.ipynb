{
  "nbformat": 4,
  "nbformat_minor": 0,
  "metadata": {
    "colab": {
      "private_outputs": true,
      "provenance": [],
      "include_colab_link": true
    },
    "kernelspec": {
      "name": "python3",
      "display_name": "Python 3"
    },
    "language_info": {
      "name": "python"
    }
  },
  "cells": [
    {
      "cell_type": "markdown",
      "metadata": {
        "id": "view-in-github",
        "colab_type": "text"
      },
      "source": [
        "<a href=\"https://colab.research.google.com/github/yes1023/NLP_2024/blob/main/MyMajor.ipynb\" target=\"_parent\"><img src=\"https://colab.research.google.com/assets/colab-badge.svg\" alt=\"Open In Colab\"/></a>"
      ]
    },
    {
      "cell_type": "markdown",
      "source": [
        "#📚 About the <font color = yellowgreen>**Library and information science**\n",
        "\n",
        "##🦅Library and information science at <font color = ashblue> Hannam University\n",
        "\n"
      ],
      "metadata": {
        "id": "6Br0df4M2v8d"
      }
    },
    {
      "cell_type": "markdown",
      "source": [
        "###***1. 🔎 What is Library and information science?***\n",
        "###Library and information science is a study that deals\n",
        "###with the <font color = orange>entire process of collecting, evaluating, organizing,\n",
        "###and accumulating information that occurs exponentially.\n",
        "\n",
        "\n"
      ],
      "metadata": {
        "id": "gWVQO9lSK2dd"
      }
    },
    {
      "cell_type": "markdown",
      "source": [
        "###***2. 📑 Curriculum***\n",
        "\n",
        "| Grade | Subject Name |\n",
        "|:--:|:--:|\n",
        "1 | Introduction to Library and information science |\n",
        "- | Information and Communication Technology |\n",
        "- | Information Data Classification |\n",
        "- | New Media |\n",
        "2 | Information data list theory |\n",
        "- | Information processing practice |\n",
        "- | Information literacy theory |\n",
        "- | Information data composition theory |\n",
        "- | Children and Youth Information Service |\n",
        "- | Metadata construction theory |\n",
        "- | Information academy theory |\n",
        "- | Reading guidance theory |  \n",
        "- | Information source by subject |\n",
        "- | DB system |\n",
        "3 | Library Information Center Management Theory |\n",
        "- | Digital Library |\n",
        "- | Information Service Theory |\n",
        "- | Record Management Theory |\n",
        "- | Information Behavior Theory |\n",
        "- | Academic Information Netwick |\n",
        "- | Web Information Construction |\n",
        "- | Index and Sisoras |\n",
        "- | School Public Library Operation Theory |\n",
        "- | Information Organization Practice |\n",
        "- | Information Search Theory |\n",
        "- | Data Science |\n",
        "4 | Field practice |\n",
        "- | Medical information theory |\n",
        "- | Literature information research statistics theory |\n",
        "- | Text mining capstone design |\n",
        "- | University special library operation theory |\n",
        "- | Regional information research proposal theory |\n",
        "- | Special lecture on literature informatics |\n",
        "- | Data visualization |\n",
        "- | Understanding of artificial intelligence |\n",
        "- | Comprehensive information system design |\n",
        "- | Media management comprehensive design capstone design"
      ],
      "metadata": {
        "id": "XHUDkjCmMl99"
      }
    },
    {
      "cell_type": "code",
      "execution_count": null,
      "metadata": {
        "id": "sfzwGCmd2u0p"
      },
      "outputs": [],
      "source": []
    }
  ]
}