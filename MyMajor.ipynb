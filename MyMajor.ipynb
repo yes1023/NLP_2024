{
  "nbformat": 4,
  "nbformat_minor": 0,
  "metadata": {
    "colab": {
      "private_outputs": true,
      "provenance": [],
      "include_colab_link": true
    },
    "kernelspec": {
      "name": "python3",
      "display_name": "Python 3"
    },
    "language_info": {
      "name": "python"
    }
  },
  "cells": [
    {
      "cell_type": "markdown",
      "metadata": {
        "id": "view-in-github",
        "colab_type": "text"
      },
      "source": [
        "<a href=\"https://colab.research.google.com/github/yes1023/NLP_2024/blob/main/MyMajor.ipynb\" target=\"_parent\"><img src=\"https://colab.research.google.com/assets/colab-badge.svg\" alt=\"Open In Colab\"/></a>"
      ]
    },
    {
      "cell_type": "markdown",
      "source": [
        "#📚 About the <font color = yellowgreen>**Department of Library and information science**\n",
        "\n",
        "##🦅Department of Library and information science at <font color = ashblue> Hannam University\n",
        "\n"
      ],
      "metadata": {
        "id": "6Br0df4M2v8d"
      }
    },
    {
      "cell_type": "markdown",
      "source": [
        "###***1. 🔎 What is Library and information science?***\n",
        "###Department of Library and information science is a study that deals\n",
        "###with the <font color = orange>entire process of collecting, evaluating, organizing,\n",
        "###and accumulating information that occurs exponentially.\n",
        "\n",
        "\n"
      ],
      "metadata": {
        "id": "gWVQO9lSK2dd"
      }
    },
    {
      "cell_type": "markdown",
      "source": [
        "###***2. 📑 Curriculum***\n",
        "| Grade | Subject Name | Grade | Subject Name |\n",
        "|:--:|:--:|:--:|:--:|\n",
        "| 1 | Introduction to Library and information science | 3 | Library Information Center Management Theory |\n",
        "|   | Information and Communication Technology |   | Digital Library |\n",
        "|   | Information Data Classification |   | Information Service Theory |\n",
        "|   | New Media |   | Record Management Theory |\n",
        "|   |   |   |   |\n",
        "| 2 | Information data list theory |   | Information Behavior Theory |\n",
        "|   | Information processing practice |   | Academic Information Netwick |\n",
        "|   | Information literacy theory |   | Web Information Construction |\n",
        "|   | Information data composition theory |   | Index and Sisoras |\n",
        "|   | Children and Youth Information Service |   | School Public Library Operation Theory |\n",
        "|   | Metadata construction theory |   | School Public Library Operation Theory |\n",
        "|   | Information academy theory |   | Information Organization Practice |\n",
        "|   | Reading guidance theory |   | Information Search Theory |\n",
        "|   | Information source by subject |   | Data Science |\n",
        "|   | DB system |   |   |\n",
        "|   |   | 4 | Field practice |\n",
        "|   |   |   | Medical information theory |\n",
        "|   |   |   | Literature information research statistics theory |\n",
        "|   |   |   | Text mining capstone design |\n",
        "|   |   |   | University special library operation theory |\n",
        "|   |   |   | Regional information research proposal theory |\n",
        "|   |   |   | Special lecture on literature informatics |\n",
        "|   |   |   | Data visualization |\n",
        "|   |   |   | Understanding of artificial intelligence |\n",
        "|   |   |   | Comprehensive information system design |\n",
        "|   |   |   | Media management comprehensive design capstone design |"
      ],
      "metadata": {
        "id": "XHUDkjCmMl99"
      }
    },
    {
      "cell_type": "markdown",
      "source": [
        "###***3. 🗓️ Department of Library and information science <font color = hotpink>Activity & Schedule***\n",
        "* Department of Library and information science of Hannam University News Page [Teleporting](https://www.instagram.com/hannam_mj/)"
      ],
      "metadata": {
        "id": "a6GPH8F8SGRQ"
      }
    },
    {
      "cell_type": "code",
      "execution_count": null,
      "metadata": {
        "id": "sfzwGCmd2u0p"
      },
      "outputs": [],
      "source": []
    }
  ]
}