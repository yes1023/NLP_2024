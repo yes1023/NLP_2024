{
  "nbformat": 4,
  "nbformat_minor": 0,
  "metadata": {
    "colab": {
      "private_outputs": true,
      "provenance": [],
      "authorship_tag": "ABX9TyN+n76e7lJsAoSmrxbACSfR",
      "include_colab_link": true
    },
    "kernelspec": {
      "name": "python3",
      "display_name": "Python 3"
    },
    "language_info": {
      "name": "python"
    }
  },
  "cells": [
    {
      "cell_type": "markdown",
      "metadata": {
        "id": "view-in-github",
        "colab_type": "text"
      },
      "source": [
        "<a href=\"https://colab.research.google.com/github/yes1023/NLP_2024/blob/main/python%20practice.ipynb\" target=\"_parent\"><img src=\"https://colab.research.google.com/assets/colab-badge.svg\" alt=\"Open In Colab\"/></a>"
      ]
    },
    {
      "cell_type": "code",
      "execution_count": null,
      "metadata": {
        "id": "kshlVQXbBo_o"
      },
      "outputs": [],
      "source": [
        "print('안녕하세요')"
      ]
    },
    {
      "cell_type": "code",
      "source": [
        "#006\n",
        "int_data = 1 #정수 선언\n",
        "float_data = 3.14 #실수 선언\n",
        "complex_data = 1 + 5j #복소수 선언\n",
        "str_data1 = 'I love Python' #문자열 선언(영문)\n",
        "str_data2 = \"반갑습니다.\" #문자열 선언(한글)\n",
        "list_data = [1, 2, 3] #리스트 선언\n",
        "tuple_data = (1, 2, 3) #튜플 선언\n",
        "dict_data = {0:'False', 1:'True'} #사전 선언"
      ],
      "metadata": {
        "id": "p5wti0yxBzeE"
      },
      "execution_count": null,
      "outputs": []
    },
    {
      "cell_type": "code",
      "source": [
        "#007\n",
        "a = 200\n",
        "msg = 'I love Python'\n",
        "list_data = ['a', 'b', 'c']\n",
        "dict_data = {'a':97, 'b':98}\n",
        "print(a)\n",
        "print(msg)\n",
        "print(list_data)\n",
        "print(list_data[0])\n",
        "print(dict_data)\n",
        "print(dict_data['a'])"
      ],
      "metadata": {
        "id": "ZRrFO81kLuCL"
      },
      "execution_count": null,
      "outputs": []
    },
    {
      "cell_type": "code",
      "source": [
        "#008\n",
        "listdata = ['a', 'b', 'c']\n",
        "if 'a' in listdata:\n",
        "    print('a가 listdata에 있습니다.')\n",
        "    print(listdata)\n",
        "else:\n",
        "    print('a가 listdata에 존재하지 않습니다.')"
      ],
      "metadata": {
        "id": "nOHnEVIW8Wxl"
      },
      "execution_count": null,
      "outputs": []
    },
    {
      "cell_type": "code",
      "source": [
        "#009\n",
        "x = 1\n",
        "y = 2\n",
        "if x >= y:\n",
        "    print('x가 y보다 크거나 같습니다.')\n",
        "else:\n",
        "    print('x가 y보다 작습니다.')"
      ],
      "metadata": {
        "id": "ERfWIhul9nMi"
      },
      "execution_count": null,
      "outputs": []
    },
    {
      "cell_type": "code",
      "source": [
        "#010\n",
        "x = 1\n",
        "y = 2\n",
        "if x > y:\n",
        "    print('x가 y보다 큽니다.')\n",
        "elif x < y:\n",
        "    print('x가 y보다 작습니다.')\n",
        "else:\n",
        "    print('x와 y가 깉습니다.')"
      ],
      "metadata": {
        "id": "VVTVIXGTt3Nr"
      },
      "execution_count": null,
      "outputs": []
    },
    {
      "cell_type": "code",
      "source": [
        "#011\n",
        "scope = [1,2,3,4,5]\n",
        "for x in scope:\n",
        "    print(x)"
      ],
      "metadata": {
        "id": "PMa9PBU2zNFZ"
      },
      "execution_count": null,
      "outputs": []
    },
    {
      "cell_type": "code",
      "source": [
        "#문자열을 범위로 지정한 예\n",
        "str = 'abcdef'\n",
        "for c in str:\n",
        "  print(c)"
      ],
      "metadata": {
        "id": "klGOXi2Hzv3s"
      },
      "execution_count": null,
      "outputs": []
    },
    {
      "cell_type": "code",
      "source": [
        "#리스트를 범위로 지정한 예\n",
        "list = [1,2,3,4,5]\n",
        "for c in list:\n",
        "  print(c)"
      ],
      "metadata": {
        "id": "-Ypyr3VD0Tpv"
      },
      "execution_count": null,
      "outputs": []
    },
    {
      "cell_type": "code",
      "source": [
        "#사전을 범위로 지정한 예\n",
        "ascii_codes = {'a':97,'b':98,'c':99}\n",
        "for c in ascii_codes:\n",
        "  print(c)"
      ],
      "metadata": {
        "id": "cspkaqJ_0iME"
      },
      "execution_count": null,
      "outputs": []
    },
    {
      "cell_type": "code",
      "source": [
        "#range() 함수를 범위로 지정한 예\n",
        "for c in range(10):\n",
        "  print(c)"
      ],
      "metadata": {
        "id": "JSTXhCoJ05Wx"
      },
      "execution_count": null,
      "outputs": []
    }
  ]
}