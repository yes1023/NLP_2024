{
  "nbformat": 4,
  "nbformat_minor": 0,
  "metadata": {
    "colab": {
      "private_outputs": true,
      "provenance": [],
      "authorship_tag": "ABX9TyOEmCRmR45TBfJp+2fmEhGB",
      "include_colab_link": true
    },
    "kernelspec": {
      "name": "python3",
      "display_name": "Python 3"
    },
    "language_info": {
      "name": "python"
    }
  },
  "cells": [
    {
      "cell_type": "markdown",
      "metadata": {
        "id": "view-in-github",
        "colab_type": "text"
      },
      "source": [
        "<a href=\"https://colab.research.google.com/github/yes1023/NLP_2024/blob/main/python%20practice.ipynb\" target=\"_parent\"><img src=\"https://colab.research.google.com/assets/colab-badge.svg\" alt=\"Open In Colab\"/></a>"
      ]
    },
    {
      "cell_type": "code",
      "execution_count": null,
      "metadata": {
        "id": "kshlVQXbBo_o"
      },
      "outputs": [],
      "source": [
        "print('안녕하세요')"
      ]
    },
    {
      "cell_type": "code",
      "source": [
        "#006\n",
        "int_data = 1 #정수 선언\n",
        "float_data = 3.14 #실수 선언\n",
        "complex_data = 1 + 5j #복소수 선언\n",
        "str_data1 = 'I love Python' #문자열 선언(영문)\n",
        "str_data2 = \"반갑습니다.\" #문자열 선언(한글)\n",
        "list_data = [1, 2, 3] #리스트 선언\n",
        "tuple_data = (1, 2, 3) #튜플 선언\n",
        "dict_data = {0:'False', 1:'True'} #사전 선언"
      ],
      "metadata": {
        "id": "p5wti0yxBzeE"
      },
      "execution_count": null,
      "outputs": []
    },
    {
      "cell_type": "code",
      "source": [
        "#007\n",
        "a = 200\n",
        "msg = 'I love Python'\n",
        "list_data = ['a', 'b', 'c']\n",
        "dict_data = {'a':97, 'b':98}\n",
        "print(a)\n",
        "print(msg)\n",
        "print(list_data)\n",
        "print(list_data[0])\n",
        "print(dict_data)\n",
        "print(dict_data['a'])"
      ],
      "metadata": {
        "id": "ZRrFO81kLuCL"
      },
      "execution_count": null,
      "outputs": []
    },
    {
      "cell_type": "code",
      "source": [
        "#008\n",
        "listdata = ['a', 'b', 'c']\n",
        "if 'a' in listdata:\n",
        "    print('a가 listdata에 있습니다.')\n",
        "    print(listdata)\n",
        "else:\n",
        "    print('a가 listdata에 존재하지 않습니다.')"
      ],
      "metadata": {
        "id": "bGXJEDIp7YIg"
      },
      "execution_count": null,
      "outputs": []
    }
  ]
}