{
  "nbformat": 4,
  "nbformat_minor": 0,
  "metadata": {
    "colab": {
      "private_outputs": true,
      "provenance": [],
      "include_colab_link": true
    },
    "kernelspec": {
      "name": "python3",
      "display_name": "Python 3"
    },
    "language_info": {
      "name": "python"
    }
  },
  "cells": [
    {
      "cell_type": "markdown",
      "metadata": {
        "id": "view-in-github",
        "colab_type": "text"
      },
      "source": [
        "<a href=\"https://colab.research.google.com/github/yes1023/NLP_2024/blob/main/python%20practice.ipynb\" target=\"_parent\"><img src=\"https://colab.research.google.com/assets/colab-badge.svg\" alt=\"Open In Colab\"/></a>"
      ]
    },
    {
      "cell_type": "code",
      "source": [
        "#006\n",
        "int_data = 1 #정수 선언\n",
        "float_data = 3.14 #실수 선언\n",
        "complex_data = 1 + 5j #복소수 선언\n",
        "str_data1 = 'I love Python' #문자열 선언(영문)\n",
        "str_data2 = \"반갑습니다.\" #문자열 선언(한글)\n",
        "list_data = [1, 2, 3] #리스트 선언\n",
        "tuple_data = (1, 2, 3) #튜플 선언\n",
        "dict_data = {0:'False', 1:'True'} #사전 선언"
      ],
      "metadata": {
        "id": "p5wti0yxBzeE"
      },
      "execution_count": null,
      "outputs": []
    },
    {
      "cell_type": "code",
      "source": [
        "#007\n",
        "a = 200\n",
        "msg = 'I love Python'\n",
        "list_data = ['a', 'b', 'c']\n",
        "dict_data = {'a':97, 'b':98}\n",
        "print(a)\n",
        "print(msg)\n",
        "print(list_data)\n",
        "print(list_data[0])\n",
        "print(dict_data)\n",
        "print(dict_data['a'])"
      ],
      "metadata": {
        "id": "ZRrFO81kLuCL"
      },
      "execution_count": null,
      "outputs": []
    },
    {
      "cell_type": "code",
      "source": [
        "#008\n",
        "listdata = ['a', 'b', 'c']\n",
        "if 'a' in listdata:\n",
        "    print('a가 listdata에 있습니다.')\n",
        "    print(listdata)\n",
        "else:\n",
        "    print('a가 listdata에 존재하지 않습니다.')"
      ],
      "metadata": {
        "id": "nOHnEVIW8Wxl"
      },
      "execution_count": null,
      "outputs": []
    },
    {
      "cell_type": "code",
      "source": [
        "#009\n",
        "x = 1\n",
        "y = 2\n",
        "if x >= y:\n",
        "    print('x가 y보다 크거나 같습니다.')\n",
        "else:\n",
        "    print('x가 y보다 작습니다.')"
      ],
      "metadata": {
        "id": "ERfWIhul9nMi"
      },
      "execution_count": null,
      "outputs": []
    },
    {
      "cell_type": "code",
      "source": [
        "#010\n",
        "x = 1\n",
        "y = 2\n",
        "if x > y:\n",
        "    print('x가 y보다 큽니다.')\n",
        "elif x < y:\n",
        "    print('x가 y보다 작습니다.')\n",
        "else:\n",
        "    print('x와 y가 깉습니다.')"
      ],
      "metadata": {
        "id": "VVTVIXGTt3Nr"
      },
      "execution_count": null,
      "outputs": []
    },
    {
      "cell_type": "code",
      "source": [
        "#011\n",
        "scope = [1,2,3,4,5]\n",
        "for x in scope:\n",
        "    print(x)"
      ],
      "metadata": {
        "id": "PMa9PBU2zNFZ"
      },
      "execution_count": null,
      "outputs": []
    },
    {
      "cell_type": "code",
      "source": [
        "#문자열을 범위로 지정한 예\n",
        "str = 'abcdef'\n",
        "for c in str:\n",
        "  print(c)"
      ],
      "metadata": {
        "id": "klGOXi2Hzv3s"
      },
      "execution_count": null,
      "outputs": []
    },
    {
      "cell_type": "code",
      "source": [
        "#리스트를 범위로 지정한 예\n",
        "list = [1,2,3,4,5]\n",
        "for c in list:\n",
        "  print(c)"
      ],
      "metadata": {
        "id": "-Ypyr3VD0Tpv"
      },
      "execution_count": null,
      "outputs": []
    },
    {
      "cell_type": "code",
      "source": [
        "#사전을 범위로 지정한 예\n",
        "ascii_codes = {'a':97,'b':98,'c':99}\n",
        "for c in ascii_codes:\n",
        "  print(c)"
      ],
      "metadata": {
        "id": "cspkaqJ_0iME"
      },
      "execution_count": null,
      "outputs": []
    },
    {
      "cell_type": "code",
      "source": [
        "#range() 함수를 범위로 지정한 예\n",
        "for c in range(10):\n",
        "  print(c)"
      ],
      "metadata": {
        "id": "JSTXhCoJ05Wx"
      },
      "execution_count": null,
      "outputs": []
    },
    {
      "cell_type": "code",
      "source": [
        "str = 'Time is money!!'\n",
        "print(str[::])\n",
        "print(str[:2])\n",
        "print(str[::2])\n",
        "print(str[::-2])\n",
        "print(str[2:7])"
      ],
      "metadata": {
        "id": "wWlQHIi_tSmV"
      },
      "execution_count": null,
      "outputs": []
    },
    {
      "cell_type": "code",
      "source": [
        "ARMY = \"I love BTS\"\n",
        "print(len(ARMY))"
      ],
      "metadata": {
        "id": "UVGOGI5PksGs"
      },
      "execution_count": null,
      "outputs": []
    },
    {
      "cell_type": "code",
      "source": [
        "list = ['BTS','DAY6','LUCY','CSW']\n",
        "print(list)\n",
        "list[3] = 'TWS'\n",
        "print(list)"
      ],
      "metadata": {
        "id": "ABRCSwXdngmF"
      },
      "execution_count": null,
      "outputs": []
    },
    {
      "cell_type": "code",
      "source": [
        "list = ['Sleep','Music','Cat','Dog']\n",
        "print(list[::2])"
      ],
      "metadata": {
        "id": "2ey17NA0pj67"
      },
      "execution_count": null,
      "outputs": []
    },
    {
      "cell_type": "code",
      "source": [
        "x = 800\n",
        "y = 500\n",
        "\n",
        "if x < y:\n",
        "  print(\"잔액이 부족합니다.\")\n",
        "else:\n",
        "  print(\"결제가 완료되었습니다.\")"
      ],
      "metadata": {
        "id": "Ijy4MOZVC1eC"
      },
      "execution_count": null,
      "outputs": []
    },
    {
      "cell_type": "code",
      "source": [
        "BTS = ['RM', 'JIN', 'SUGA', 'J-HOPE', 'JIMIN', 'V', 'JUNGKOOK']\n",
        "\n",
        "for i in BTS:\n",
        "  print(i)"
      ],
      "metadata": {
        "id": "BOMaV54vH2ia"
      },
      "execution_count": null,
      "outputs": []
    },
    {
      "cell_type": "code",
      "source": [
        "for i in range(4):\n",
        "  print(i)\n",
        "\n",
        "type(i)"
      ],
      "metadata": {
        "id": "qx-ocN0zIUAV"
      },
      "execution_count": null,
      "outputs": []
    },
    {
      "cell_type": "code",
      "source": [
        "list_Actor = [\"조승우\", \"박형식\", \"연우진\", \"김성철\", \"이진욱\", \"남궁민\", \"이도현\"]\n",
        "\n",
        "for i in list_Actor:\n",
        "  print(i)"
      ],
      "metadata": {
        "id": "ik1m-fR-Ijnj"
      },
      "execution_count": null,
      "outputs": []
    },
    {
      "cell_type": "code",
      "source": [
        "list_Character = [\"류선재\", \"임솔\", \"설우재\", \"김태헌\", \"김태성\", \"백인혁\"]\n",
        "\n",
        "for i in list_Character:\n",
        "  print(i)"
      ],
      "metadata": {
        "id": "soOjuI9tfK_K"
      },
      "execution_count": null,
      "outputs": []
    },
    {
      "cell_type": "code",
      "source": [
        "import re\n",
        "text = \"류선재, 설우재, 주우재, 최영재, 임솔, 백인혁, 김태성, 김태헌\"\n",
        "pattern = r\"재\"\n",
        "\n",
        "matches = re.findall(pattern, text)\n",
        "\n",
        "for j in matches:\n",
        "  print(\"Match:\", j)"
      ],
      "metadata": {
        "id": "OxRHvSJwgDt1"
      },
      "execution_count": null,
      "outputs": []
    },
    {
      "cell_type": "code",
      "source": [
        "import re\n",
        "text = \"류선재, 설우재, 주우재, 최영재, 임솔, 백인혁, 김태성, 김태헌\"\n",
        "pattern = r\".재\"\n",
        "\n",
        "matches = re.findall(pattern, text)\n",
        "\n",
        "for j in matches:\n",
        "  print(\"Match:\", j)"
      ],
      "metadata": {
        "id": "YhnWjph3gfc6"
      },
      "execution_count": null,
      "outputs": []
    },
    {
      "cell_type": "code",
      "source": [
        "import re\n",
        "text = \"김석진, 지석진, 하석진, 백이진, 민희진, 전못진, 진라면\"\n",
        "pattern = r\".진\"\n",
        "\n",
        "matches = re.findall(pattern, text)\n",
        "\n",
        "for i in matches:\n",
        "  print(\"Match:\",i)"
      ],
      "metadata": {
        "id": "4MEIgrKCGI--"
      },
      "execution_count": null,
      "outputs": []
    },
    {
      "cell_type": "code",
      "source": [
        "import re\n",
        "text = \"김석진, 지석진, 하석진, 백이진, 민희진, 전못진, 진라면\"\n",
        "pattern = r\".석진\"\n",
        "\n",
        "matches = re.findall(pattern, text)\n",
        "\n",
        "for i in matches:\n",
        "  print(\"Match:\", i)"
      ],
      "metadata": {
        "id": "nKrRWR-GHyI6"
      },
      "execution_count": null,
      "outputs": []
    },
    {
      "cell_type": "code",
      "source": [
        "import re\n",
        "text = \"김석진, 지석진, 하석진, 백이진, 민희지니, 전못진, 진라면\"\n",
        "pattern = r\".석+진\"\n",
        "\n",
        "matches = re.findall(pattern, text)\n",
        "\n",
        "for i in matches:\n",
        "  print(\"Match:\", i)"
      ],
      "metadata": {
        "id": "G5o6sXA1IStL"
      },
      "execution_count": null,
      "outputs": []
    },
    {
      "cell_type": "code",
      "source": [
        "import re\n",
        "text = \"송은석, 변우석, 손석구, 김석우, 석갈비, 김석진, 양석형\"\n",
        "pattern = r\".석+진\"\n",
        "\n",
        "matches = re.findall(pattern, text)\n",
        "\n",
        "for i in matches:\n",
        "  print(\"Match:\", i)"
      ],
      "metadata": {
        "id": "0su_MdESIuzw"
      },
      "execution_count": null,
      "outputs": []
    },
    {
      "cell_type": "code",
      "source": [
        "import re\n",
        "text = \"어느 날 우리 집 현관으로 멸망이 들어왔다.\"\n",
        "pattern = r\".다$\"\n",
        "\n",
        "matches =re.findall(pattern, text)\n",
        "\n",
        "for i in matches:\n",
        "  print(\"Match:\", i)"
      ],
      "metadata": {
        "id": "Kcn7LHBoJTCT"
      },
      "execution_count": null,
      "outputs": []
    },
    {
      "cell_type": "code",
      "source": [
        "import re\n",
        "text = \"어느 날 우리 집 현관으로 멸망이 들어왔다\"\n",
        "pattern = r\".다$\"\n",
        "\n",
        "matches =re.findall(pattern, text)\n",
        "\n",
        "for i in matches:\n",
        "  print(\"Match:\", i)"
      ],
      "metadata": {
        "id": "RiJGbt-UJqRZ"
      },
      "execution_count": null,
      "outputs": []
    },
    {
      "cell_type": "code",
      "source": [
        "import re\n",
        "text = \"정신병동에도 아침이 와요\"\n",
        "pattern = r\"^정\"\n",
        "\n",
        "matches = re.findall(pattern, text)\n",
        "for i in matches:\n",
        "  print(\"Match:\", i)"
      ],
      "metadata": {
        "id": "EMVcE_ZsJ9v_"
      },
      "execution_count": null,
      "outputs": []
    },
    {
      "cell_type": "code",
      "source": [
        "import re\n",
        "text = \"멱살 한 번 잡힙시다\"\n",
        "pattern = r\"^한\"\n",
        "\n",
        "matches =  re.findall(pattern, text)\n",
        "for i in matches:\n",
        "  print(\"Match:\", i)"
      ],
      "metadata": {
        "id": "GAJ9s6jujZs4"
      },
      "execution_count": null,
      "outputs": []
    },
    {
      "cell_type": "code",
      "source": [
        "import re\n",
        "text = \"악의 마음을 읽는 자들\"\n",
        "pattern = r\"들$\"\n",
        "\n",
        "matches = re.findall(pattern, text)\n",
        "for d in matches:\n",
        "  print(\"Match:\", d)"
      ],
      "metadata": {
        "id": "Ck7XZgzwju3o"
      },
      "execution_count": null,
      "outputs": []
    },
    {
      "cell_type": "code",
      "source": [
        "import re\n",
        "text = \"시청 앞 지하철 역에서\"\n",
        "pattern = r'시'\n",
        "\n",
        "matches = re.findall(pattern, text)\n",
        "for j in matches:\n",
        "  print(\"Match:\", j)"
      ],
      "metadata": {
        "id": "muP-4_WipSiQ"
      },
      "execution_count": null,
      "outputs": []
    },
    {
      "cell_type": "code",
      "source": [
        "import re\n",
        "text = \"슬기로운 의사생활\"\n",
        "pattern = r'슬'\n",
        "pattern1 = r'의'\n",
        "\n",
        "matches = re.findall(pattern, text)\n",
        "for doctor in matches:\n",
        "  print(doctor)\n",
        "\n",
        "matches = re.findall(pattern1, text)\n",
        "for doctor in matches:\n",
        "  print(doctor)"
      ],
      "metadata": {
        "id": "Q-2woF6Upnb9"
      },
      "execution_count": null,
      "outputs": []
    },
    {
      "cell_type": "code",
      "source": [
        "import re\n",
        "text = \"슬기로운 의사생활, 슬기로운 감빵생활\"\n",
        "pattern = r'슬기로운'\n",
        "\n",
        "matches = re.findall(pattern, text)\n",
        "\n",
        "for i in matches:\n",
        "  print(i)"
      ],
      "metadata": {
        "id": "TMtyIJVaqEzm"
      },
      "execution_count": null,
      "outputs": []
    },
    {
      "cell_type": "code",
      "source": [
        "import re\n",
        "text = \"신정환, 김도훈, 최영재, 한진, 한지훈, 이경민\"\n",
        "pattern = r'한'\n",
        "\n",
        "matches = re.findall(pattern, text)\n",
        "\n",
        "for tws in matches:\n",
        "  print(tws)"
      ],
      "metadata": {
        "id": "eeKQU00vhL-3"
      },
      "execution_count": null,
      "outputs": []
    },
    {
      "cell_type": "code",
      "source": [
        "import re\n",
        "text = \"신정환, 김도훈, 최영재, 한진, 한지훈, 이경민\"\n",
        "pattern = r'한.'\n",
        "\n",
        "matches = re.findall(pattern, text)\n",
        "\n",
        "for tws in matches:\n",
        "  print(tws)"
      ],
      "metadata": {
        "id": "27r4kyXRg2bQ"
      },
      "execution_count": null,
      "outputs": []
    },
    {
      "cell_type": "code",
      "source": [
        "scope = [3, 13, 23, 33, 43, 52]\n",
        "for i in scope:\n",
        "  print(i)\n",
        "  if i < 40:\n",
        "    continue\n",
        "  else:\n",
        "    break"
      ],
      "metadata": {
        "id": "Rm7Nz_Aul5A-"
      },
      "execution_count": null,
      "outputs": []
    },
    {
      "cell_type": "code",
      "source": [
        "scope = [3, 13, 23, 33, 43, 52]\n",
        "for i in scope:\n",
        "  if i < 40:\n",
        "    print(i)\n",
        "    continue\n",
        "  else:\n",
        "    break"
      ],
      "metadata": {
        "id": "hHU2XpBxoCzP"
      },
      "execution_count": null,
      "outputs": []
    },
    {
      "cell_type": "code",
      "source": [
        "#015\n",
        "val = None #값이 존재하지 않는 변수에 대입하여 이 변수에 아무런 값이 없다는 것을 나타내기 위해 주로 활용.\n",
        "condition = 1\n",
        "if condition == 1:\n",
        "  val = [1,2,3]\n",
        "else:\n",
        "  val = 'I love Python'"
      ],
      "metadata": {
        "id": "aurmvhxposLX"
      },
      "execution_count": null,
      "outputs": []
    },
    {
      "cell_type": "code",
      "source": [
        "#016\n",
        "int_data = 10\n",
        "bin_data = 0b10\n",
        "oct_data = 0o10\n",
        "hex_data = 0x10\n",
        "long_data = 1234567890123456789\n",
        "\n",
        "print(int_data)\n",
        "print(bin_data)\n",
        "print(oct_data)\n",
        "print(hex_data)\n",
        "print(long_data)"
      ],
      "metadata": {
        "id": "juzFyk_-zIq7"
      },
      "execution_count": null,
      "outputs": []
    },
    {
      "cell_type": "code",
      "source": [
        "#017\n",
        "f1 = 1.0\n",
        "f2 = 3.14\n",
        "f3 = 1.56e3\n",
        "f4 = -0.7e-4\n",
        "\n",
        "print(f1)\n",
        "print(f2)\n",
        "print(f3)\n",
        "print(f4)"
      ],
      "metadata": {
        "id": "WWCowS1Y0Se8"
      },
      "execution_count": null,
      "outputs": []
    },
    {
      "cell_type": "code",
      "source": [
        "import re\n",
        "text = \"2018 멜론뮤직어워드\"\n",
        "\n",
        "pattern = r'[0-9]'\n",
        "matches = re.findall(pattern, text)\n",
        "\n",
        "for i in matches:\n",
        "  print(\"Match:\", i)"
      ],
      "metadata": {
        "id": "x8p7bL-h99u-"
      },
      "execution_count": null,
      "outputs": []
    },
    {
      "cell_type": "code",
      "source": [
        "import re\n",
        "text = \"Permission To Dance\"\n",
        "\n",
        "pattern = r'[a-zA-Z]'\n",
        "matches = re.findall(pattern, text)\n",
        "\n",
        "for i in matches:\n",
        "  print(\"Match:\", i)"
      ],
      "metadata": {
        "id": "4L3Ay7Hh-P3H"
      },
      "execution_count": null,
      "outputs": []
    },
    {
      "cell_type": "code",
      "source": [
        "import re\n",
        "text = \"Permission To Dance\"\n",
        "\n",
        "pattern = r'[A-Z]'\n",
        "matches = re.findall(pattern, text)\n",
        "\n",
        "for i in matches:\n",
        "  print(\"Match:\", i)"
      ],
      "metadata": {
        "id": "k8tuovTq-r6N"
      },
      "execution_count": null,
      "outputs": []
    },
    {
      "cell_type": "code",
      "source": [
        "import re\n",
        "text = \"Permission To Dance\"\n",
        "\n",
        "pattern = r'[a-z]'\n",
        "matches = re.findall(pattern, text)\n",
        "\n",
        "for i in matches:\n",
        "  print(\"Match:\", i)"
      ],
      "metadata": {
        "id": "n5VJj2ZY_W0J"
      },
      "execution_count": null,
      "outputs": []
    },
    {
      "cell_type": "code",
      "source": [
        "def add_txt(t1, t2):\n",
        "    t_result = t1 + t2\n",
        "    return t_result"
      ],
      "metadata": {
        "id": "x2DiUuPXLfhf"
      },
      "execution_count": null,
      "outputs": []
    },
    {
      "cell_type": "code",
      "source": [
        "def add_txt(A, B):\n",
        "    c_result = A + B\n",
        "    return c_result"
      ],
      "metadata": {
        "id": "itIXqtJALgx3"
      },
      "execution_count": null,
      "outputs": []
    },
    {
      "cell_type": "code",
      "source": [
        "def add_txt(t1, t2):\n",
        "    result = t1 + t2\n",
        "    return result\n",
        "\n",
        "text1 = \"Hello, \"\n",
        "text2 = \"World!\"\n",
        "\n",
        "combined_text = add_txt(text1,text2)\n",
        "\n",
        "print(combined_text)"
      ],
      "metadata": {
        "id": "mnQNAqR7L9Uv"
      },
      "execution_count": null,
      "outputs": []
    },
    {
      "cell_type": "code",
      "source": [
        "def add_txt(A, B):\n",
        "    result = A + B\n",
        "    return result\n",
        "\n",
        "a = \"Hello, \"\n",
        "b = \"World!\"\n",
        "\n",
        "combined_text = add_txt(a,b)\n",
        "\n",
        "print(combined_text)"
      ],
      "metadata": {
        "id": "5R1LOCOLL_ZZ"
      },
      "execution_count": null,
      "outputs": []
    },
    {
      "cell_type": "code",
      "source": [
        "import pandas as pd\n",
        "dict_data = {'c0': [1, 2, 3], 'c1': [4, 5, 6], 'c2': [7, 8, 9], 'c3': [10, 11, 12], 'c4': [13, 14, 15]}\n",
        "\n",
        "df = pd.DataFrame(dict_data)\n",
        "print(df)\n",
        "print('\\n')\n",
        "print(type(df))"
      ],
      "metadata": {
        "id": "VNHmydFhCcYR"
      },
      "execution_count": null,
      "outputs": []
    },
    {
      "cell_type": "code",
      "source": [
        "class FourCal:\n",
        "  def setdata(self, first, second):\n",
        "    self.first = first\n",
        "    self.second = second\n",
        "\n",
        "c = FourCal()\n",
        "d = FourCal()"
      ],
      "metadata": {
        "id": "j377jpfeDPtW"
      },
      "execution_count": null,
      "outputs": []
    },
    {
      "cell_type": "code",
      "source": [
        "class FourCal:\n",
        "  def setdata(self, first, second):\n",
        "    self.first = first\n",
        "    self.second = second\n",
        "\n",
        "  def add(self):\n",
        "    result = self.first + self.second\n",
        "    return result\n",
        "\n",
        "  def sub(self):\n",
        "    result = self.first - self.second\n",
        "    return result\n",
        "\n",
        "  def mul(self):\n",
        "    result = self.first *self.second\n",
        "\n",
        "  def dib(self):\n",
        "    result = self.first / self.second\n",
        "    return result\n",
        "\n",
        "a = FourCal()\n",
        "b = FourCal()\n",
        "c = FourCal()\n",
        "\n",
        "a.setdata(23,42)\n",
        "b.setdata(613,122)\n",
        "c.setdata(2013,2024)"
      ],
      "metadata": {
        "id": "2kB8sd8LJh_y"
      },
      "execution_count": null,
      "outputs": []
    },
    {
      "cell_type": "code",
      "source": [
        "a.add()"
      ],
      "metadata": {
        "id": "LM3rrG-jPsrn"
      },
      "execution_count": null,
      "outputs": []
    },
    {
      "cell_type": "code",
      "source": [
        "b.add()"
      ],
      "metadata": {
        "id": "L3B51fnMPv6n"
      },
      "execution_count": null,
      "outputs": []
    },
    {
      "cell_type": "code",
      "source": [
        "c.add()"
      ],
      "metadata": {
        "id": "6L3LLQNrPxLX"
      },
      "execution_count": null,
      "outputs": []
    },
    {
      "cell_type": "code",
      "source": [
        "!pip install pandas"
      ],
      "metadata": {
        "id": "QZ-M3lPBWQ1k"
      },
      "execution_count": null,
      "outputs": []
    },
    {
      "cell_type": "code",
      "source": [
        "!pip install scikit-learn"
      ],
      "metadata": {
        "id": "xNDW3bfVXsXM"
      },
      "execution_count": null,
      "outputs": []
    },
    {
      "cell_type": "code",
      "source": [
        "!pip install matplot"
      ],
      "metadata": {
        "id": "DfdWTN0WXwsI"
      },
      "execution_count": null,
      "outputs": []
    },
    {
      "cell_type": "code",
      "source": [
        "!pip install nltk"
      ],
      "metadata": {
        "id": "zHnXaFJlX42V"
      },
      "execution_count": null,
      "outputs": []
    },
    {
      "cell_type": "code",
      "source": [
        "!pip install corpus-toolkit"
      ],
      "metadata": {
        "id": "a0N4dAbSX9rT"
      },
      "execution_count": null,
      "outputs": []
    },
    {
      "cell_type": "code",
      "source": [
        "import nltk\n",
        "from nltk.tokenize import word_tokenize, sent_tokenize\n",
        "nltk.download(\"punkt\")"
      ],
      "metadata": {
        "id": "Mm13yIiwf2Xm"
      },
      "execution_count": null,
      "outputs": []
    },
    {
      "cell_type": "code",
      "source": [
        "import os\n",
        "os.mkdir (\"tws\")"
      ],
      "metadata": {
        "id": "tZaNzZ7ne7IW"
      },
      "execution_count": null,
      "outputs": []
    },
    {
      "cell_type": "code",
      "source": [
        "!pip install nitk\n",
        "text = \"투어스는 23일 0시 공식 SNS와 하이브 레이블즈 유튜브 채널을 통해 ‘아워 메모리즈:나우’(Our Memories:Now)라는 제목의 영상을 깜짝 공개하며 6월 복귀를 예고했다.\"\n",
        "from nltk.tokenize import sent_tokenize\n",
        "sentence = sent_tokenize(text)\n",
        "print('문장 토큰화: %s' %sentence)"
      ],
      "metadata": {
        "id": "yya8u6zMbKcL"
      },
      "execution_count": null,
      "outputs": []
    },
    {
      "cell_type": "markdown",
      "source": [],
      "metadata": {
        "id": "ctrodXl0bhIE"
      }
    },
    {
      "cell_type": "code",
      "source": [
        "text = \"\"\"\n",
        "‘첫 만남’의 여운이 채 가시기도 전 신인 그룹 투어스가 ‘설렘 주의보’를 발동했다. 그룹 투어스가 6월 컴백을 공식화하며 ‘올해의 신인’ 굳히기에 나선다.\n",
        "\n",
        "투어스는 23일 0시 공식 SNS와 하이브 레이블즈 유튜브 채널을 통해 ‘아워 메모리즈:나우’(Our Memories:Now)라는 제목의 영상을 깜짝 공개하며 6월 복귀를 예고했다.\n",
        "\n",
        "\n",
        "해당 영상을 드러낸 투어스의 컴백 모드는 5세대 필살기로 꼽히는 ‘청량미 절정판’임을 선언하는 느낌. 교정을 배경으로 농구 코트, 아날로그 카세트 플레이어 등이 등장하며 10대 버전의 ‘선재 업고 튀어’ 변우석을 연상케 하는 멤버 각각의 매력을 드러내 눈길을 사로잡았다.\n",
        "\n",
        "영화 같은 티저 필름을 통해 약속한 투어스의 컴백 디데이는 6월 24일. 투어스는 플레디스 엔터테인먼트가 세븐틴 이후 9년 만에 선보이는 아이돌 그룹으로, 올 초 내놓은 데뷔곡 ‘첫 만남을 계획대로 되지 않아’를 메가 히트시키며 단박에 톱티어 반열에 올라섰다. 신드롬에 가까웠던 일명 ‘첫 만남’ 열풍은 발표 4개월이 경과된 현재까지도 각종 차트 상위권에 머무는 등 ‘스테디셀러’ 양상을 보이며 ‘진정한 유행가’로 자리 잡은 인상이다.\n",
        "\n",
        "한편 투어스는 깜짝 공개한 티저 영상의 ‘본편’을 전국 영화관으로 옮겨 공개키로 해 화제를 모으고 있다. 구체적으로 소속사 플레디스 측은 ‘아워 메모리즈:나우’ 본편을 30일까지 전국 CGV 전 상영 회차 직전에 상영한다고 밝혔다.\n",
        "\"\"\"\n",
        "\n",
        "count = len(text)\n",
        "print(count)\n",
        "print(text)"
      ],
      "metadata": {
        "id": "e5yac5HABhdU"
      },
      "execution_count": null,
      "outputs": []
    },
    {
      "cell_type": "code",
      "source": [
        "text = \"\"\"\n",
        "‘첫 만남’의 여운이 채 가시기도 전 신인 그룹 투어스가 ‘설렘 주의보’를 발동했다. 그룹 투어스가 6월 컴백을 공식화하며 ‘올해의 신인’ 굳히기에 나선다.\n",
        "\n",
        "투어스는 23일 0시 공식 SNS와 하이브 레이블즈 유튜브 채널을 통해 ‘아워 메모리즈:나우’(Our Memories:Now)라는 제목의 영상을 깜짝 공개하며 6월 복귀를 예고했다.\n",
        "\n",
        "\n",
        "해당 영상을 드러낸 투어스의 컴백 모드는 5세대 필살기로 꼽히는 ‘청량미 절정판’임을 선언하는 느낌. 교정을 배경으로 농구 코트, 아날로그 카세트 플레이어 등이 등장하며 10대 버전의 ‘선재 업고 튀어’ 변우석을 연상케 하는 멤버 각각의 매력을 드러내 눈길을 사로잡았다.\n",
        "\n",
        "영화 같은 티저 필름을 통해 약속한 투어스의 컴백 디데이는 6월 24일. 투어스는 플레디스 엔터테인먼트가 세븐틴 이후 9년 만에 선보이는 아이돌 그룹으로, 올 초 내놓은 데뷔곡 ‘첫 만남을 계획대로 되지 않아’를 메가 히트시키며 단박에 톱티어 반열에 올라섰다. 신드롬에 가까웠던 일명 ‘첫 만남’ 열풍은 발표 4개월이 경과된 현재까지도 각종 차트 상위권에 머무는 등 ‘스테디셀러’ 양상을 보이며 ‘진정한 유행가’로 자리 잡은 인상이다.\n",
        "\n",
        "한편 투어스는 깜짝 공개한 티저 영상의 ‘본편’을 전국 영화관으로 옮겨 공개키로 해 화제를 모으고 있다. 구체적으로 소속사 플레디스 측은 ‘아워 메모리즈:나우’ 본편을 30일까지 전국 CGV 전 상영 회차 직전에 상영한다고 밝혔다.\n",
        "\"\"\"\n",
        "\n",
        "text_nl = text.replace('\\n', ' ')\n",
        "\n",
        "count = len(text)\n",
        "print(count)\n",
        "print('투어스 6월 컴백 “심장 꽉 잡아”')\n",
        "print('\\n', text_nl)"
      ],
      "metadata": {
        "id": "n7R2U2GVCjGu"
      },
      "execution_count": null,
      "outputs": []
    },
    {
      "cell_type": "code",
      "source": [
        "import urllib.request\n",
        "url = \"https://raw.githubusercontent.com/yes1023/Data_Misc/main/Crime_Punishment_ChOne_Part.txt\"\n",
        "reponse = urllib.request.urlopen(url)\n",
        "content =  reponse.read().decode('utf-8')\n",
        "print(content)\n",
        "words = content.split()\n",
        "print(words)\n",
        "\n",
        "unique_words = set(words)\n",
        "ttr = len(unique_words) / len(words)\n",
        "\n",
        "print(\"Type to Token Ratio (TTR):\", ttr)\n",
        "print(\"Unique words (Types):\", sorted(unique_words))\n",
        "print(\"Token:\", words)"
      ],
      "metadata": {
        "id": "NLYJyJhaYUMq"
      },
      "execution_count": null,
      "outputs": []
    },
    {
      "cell_type": "code",
      "source": [
        "import urllib.request\n",
        "url = \"https://raw.githubusercontent.com/yes1023/Data_Misc/main/Crime_Punishment_ChOne_Part.txt\"\n",
        "response = urllib.request.urlopen(url)\n",
        "content = response.read().decode('utf-8')\n",
        "\n",
        "print(content)\n",
        "\n",
        "words = content.split()\n",
        "\n",
        "unique_words = set(words)\n",
        "ttr = len(unique_words) / len(words)\n",
        "\n",
        "print(\"Type-Token Ratio (TTR):\", ttr)\n",
        "print(\"Unique words (Types):\", unique_words) #적혀있는 순대로\n",
        "print(\"Tokens:\", words)"
      ],
      "metadata": {
        "id": "0eBz3t3ur7OU"
      },
      "execution_count": null,
      "outputs": []
    },
    {
      "cell_type": "code",
      "source": [
        "import urllib.request\n",
        "url = \"https://raw.githubusercontent.com/yes1023/Data_Misc/main/Crime_Punishment_ChOne_Part.txt\"\n",
        "response = urllib.request.urlopen(url)\n",
        "content = response.read().decode('utf-8')\n",
        "\n",
        "print(content)\n",
        "\n",
        "words = content.split()\n",
        "\n",
        "unique_words = set(words)\n",
        "ttr = len(unique_words) / len(words)\n",
        "\n",
        "print(\"Type-Token Ratio (TTR):\", ttr)\n",
        "print(\"Unique words (Types):\", sorted(unique_words)) #알파벳 순대로\n",
        "print(\"Tokens:\", words)"
      ],
      "metadata": {
        "id": "_4_Ji0wxs-Lf"
      },
      "execution_count": null,
      "outputs": []
    },
    {
      "cell_type": "code",
      "source": [
        "!pip install nltk\n",
        "import nltk\n",
        "nltk.download('punkt')"
      ],
      "metadata": {
        "id": "7HDha_1NVLXo"
      },
      "execution_count": null,
      "outputs": []
    },
    {
      "cell_type": "code",
      "source": [
        "!pip install nltk\n",
        "import nltk\n",
        "nltk.download('punkt')\n",
        "\n",
        "text = open('/content/sample_data/text_symbol_sample.txt')\n",
        "temp = text.read()\n",
        "obj = temp.replace('\\n', ' ')"
      ],
      "metadata": {
        "id": "yGrpb8DFXchp"
      },
      "execution_count": null,
      "outputs": []
    },
    {
      "cell_type": "code",
      "source": [
        "print(obj)"
      ],
      "metadata": {
        "id": "sz_ZByRTZhOh"
      },
      "execution_count": null,
      "outputs": []
    },
    {
      "cell_type": "code",
      "source": [
        "!pip install nltk\n",
        "import nltk\n",
        "nltk.download('punkt')\n",
        "\n",
        "text = open('/content/sample_data/text_symbol_sample.txt')\n",
        "temp = text.read()\n",
        "obj = temp.replace('\\n', ' ')\n",
        "print(obj)"
      ],
      "metadata": {
        "id": "72Vn-JQlZjMU"
      },
      "execution_count": null,
      "outputs": []
    },
    {
      "cell_type": "code",
      "source": [
        "obj.split()"
      ],
      "metadata": {
        "id": "Yzld6uX7Zuq9"
      },
      "execution_count": null,
      "outputs": []
    },
    {
      "cell_type": "code",
      "source": [
        "!pip install nltk\n",
        "from nltk.tokenize import word_tokenize\n",
        "import nltk\n",
        "nltk.download('punkt')\n",
        "\n",
        "print('Tokenizing Word and Punctuation:', word_tokenize(obj))"
      ],
      "metadata": {
        "id": "vW5DePcCURop"
      },
      "execution_count": null,
      "outputs": []
    },
    {
      "cell_type": "code",
      "source": [
        "!pip install nltk\n",
        "\n",
        "import nltk"
      ],
      "metadata": {
        "id": "hA-Mxj8v5WSQ"
      },
      "execution_count": null,
      "outputs": []
    },
    {
      "cell_type": "code",
      "source": [
        "file = open(\"/content/sample_data/text_symbol_sample.txt\")\n",
        "text = file.read().replace(\"\\n\", \" \")\n",
        "file.close()"
      ],
      "metadata": {
        "id": "6fh8CEZi6V40"
      },
      "execution_count": null,
      "outputs": []
    },
    {
      "cell_type": "code",
      "source": [
        "text.split()"
      ],
      "metadata": {
        "id": "6Tr64tLV6UJq"
      },
      "execution_count": null,
      "outputs": []
    },
    {
      "cell_type": "code",
      "source": [
        "text.lower()"
      ],
      "metadata": {
        "id": "lSS_3ndh7NQz"
      },
      "execution_count": null,
      "outputs": []
    },
    {
      "cell_type": "code",
      "source": [
        "file = open(\"tmp.txt\", \"w\")\n",
        "file.write(text)\n",
        "file.close()"
      ],
      "metadata": {
        "id": "0vDsgW7LtX4K"
      },
      "execution_count": null,
      "outputs": []
    },
    {
      "cell_type": "code",
      "source": [
        "text.split()"
      ],
      "metadata": {
        "id": "EzhCeh6ltl_9"
      },
      "execution_count": null,
      "outputs": []
    },
    {
      "cell_type": "code",
      "source": [
        "from nltk.tokenize import RegexpTokenizer\n",
        "retokenize = RegexpTokenizer(\"[\\w]+\")\n",
        "words = retokenize.tokenize(text)"
      ],
      "metadata": {
        "id": "tVj4CXp-PaTO"
      },
      "execution_count": null,
      "outputs": []
    },
    {
      "cell_type": "code",
      "source": [
        "from nltk.stem import PorterStemmer\n",
        "stemmer = PorterStemmer()\n",
        "[stemmer.stem(w) for w in words]"
      ],
      "metadata": {
        "collapsed": true,
        "id": "V53e_XPlPm9l"
      },
      "execution_count": null,
      "outputs": []
    },
    {
      "cell_type": "code",
      "source": [
        "from  nltk.stem import LancasterStemmer\n",
        "stemmer = LancasterStemmer()\n",
        "[stemmer.stem(w) for w in words]"
      ],
      "metadata": {
        "collapsed": true,
        "id": "NGi2X43jP-P_"
      },
      "execution_count": null,
      "outputs": []
    },
    {
      "cell_type": "code",
      "source": [
        "from nltk.stem import WordNetLemmatizer\n",
        "nltk.download('wordnet')\n",
        "lemmatizer = WordNetLemmatizer()\n",
        "[lemmatizer.lemmatize(w) for w in words]"
      ],
      "metadata": {
        "collapsed": true,
        "id": "OJjapwiDQLKC"
      },
      "execution_count": null,
      "outputs": []
    },
    {
      "cell_type": "code",
      "source": [
        "from nltk.corpus import stopwords\n",
        "nltk.download('stopwords')\n",
        "print(words)\n",
        "words = [w for w in words if not w in stopwords.words('english')]\n",
        "print(words)"
      ],
      "metadata": {
        "id": "4fjBPQKMCJ9h"
      },
      "execution_count": null,
      "outputs": []
    },
    {
      "cell_type": "code",
      "source": [
        "nltk.download('gutenberg')\n",
        "text = nltk.corpus.gutenberg.raw('austen-emma.txt')\n",
        "retokenize = RegexpTokenizer(r\"[\\w]+\")\n",
        "words = retokenize.tokenize(text)\n",
        "print(words[:50])"
      ],
      "metadata": {
        "id": "tMiJQj6RDKC5"
      },
      "execution_count": null,
      "outputs": []
    }
  ]
}