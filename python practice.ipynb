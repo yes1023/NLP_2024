{
  "nbformat": 4,
  "nbformat_minor": 0,
  "metadata": {
    "colab": {
      "private_outputs": true,
      "provenance": [],
      "include_colab_link": true
    },
    "kernelspec": {
      "name": "python3",
      "display_name": "Python 3"
    },
    "language_info": {
      "name": "python"
    }
  },
  "cells": [
    {
      "cell_type": "markdown",
      "metadata": {
        "id": "view-in-github",
        "colab_type": "text"
      },
      "source": [
        "<a href=\"https://colab.research.google.com/github/yes1023/NLP_2024/blob/main/python%20practice.ipynb\" target=\"_parent\"><img src=\"https://colab.research.google.com/assets/colab-badge.svg\" alt=\"Open In Colab\"/></a>"
      ]
    },
    {
      "cell_type": "code",
      "source": [
        "#006\n",
        "int_data = 1 #정수 선언\n",
        "float_data = 3.14 #실수 선언\n",
        "complex_data = 1 + 5j #복소수 선언\n",
        "str_data1 = 'I love Python' #문자열 선언(영문)\n",
        "str_data2 = \"반갑습니다.\" #문자열 선언(한글)\n",
        "list_data = [1, 2, 3] #리스트 선언\n",
        "tuple_data = (1, 2, 3) #튜플 선언\n",
        "dict_data = {0:'False', 1:'True'} #사전 선언"
      ],
      "metadata": {
        "id": "p5wti0yxBzeE"
      },
      "execution_count": null,
      "outputs": []
    },
    {
      "cell_type": "code",
      "source": [
        "#007\n",
        "a = 200\n",
        "msg = 'I love Python'\n",
        "list_data = ['a', 'b', 'c']\n",
        "dict_data = {'a':97, 'b':98}\n",
        "print(a)\n",
        "print(msg)\n",
        "print(list_data)\n",
        "print(list_data[0])\n",
        "print(dict_data)\n",
        "print(dict_data['a'])"
      ],
      "metadata": {
        "id": "ZRrFO81kLuCL"
      },
      "execution_count": null,
      "outputs": []
    },
    {
      "cell_type": "code",
      "source": [
        "#008\n",
        "listdata = ['a', 'b', 'c']\n",
        "if 'a' in listdata:\n",
        "    print('a가 listdata에 있습니다.')\n",
        "    print(listdata)\n",
        "else:\n",
        "    print('a가 listdata에 존재하지 않습니다.')"
      ],
      "metadata": {
        "id": "nOHnEVIW8Wxl"
      },
      "execution_count": null,
      "outputs": []
    },
    {
      "cell_type": "code",
      "source": [
        "#009\n",
        "x = 1\n",
        "y = 2\n",
        "if x >= y:\n",
        "    print('x가 y보다 크거나 같습니다.')\n",
        "else:\n",
        "    print('x가 y보다 작습니다.')"
      ],
      "metadata": {
        "id": "ERfWIhul9nMi"
      },
      "execution_count": null,
      "outputs": []
    },
    {
      "cell_type": "code",
      "source": [
        "#010\n",
        "x = 1\n",
        "y = 2\n",
        "if x > y:\n",
        "    print('x가 y보다 큽니다.')\n",
        "elif x < y:\n",
        "    print('x가 y보다 작습니다.')\n",
        "else:\n",
        "    print('x와 y가 깉습니다.')"
      ],
      "metadata": {
        "id": "VVTVIXGTt3Nr"
      },
      "execution_count": null,
      "outputs": []
    },
    {
      "cell_type": "code",
      "source": [
        "#011\n",
        "scope = [1,2,3,4,5]\n",
        "for x in scope:\n",
        "    print(x)"
      ],
      "metadata": {
        "id": "PMa9PBU2zNFZ"
      },
      "execution_count": null,
      "outputs": []
    },
    {
      "cell_type": "code",
      "source": [
        "#문자열을 범위로 지정한 예\n",
        "str = 'abcdef'\n",
        "for c in str:\n",
        "  print(c)"
      ],
      "metadata": {
        "id": "klGOXi2Hzv3s"
      },
      "execution_count": null,
      "outputs": []
    },
    {
      "cell_type": "code",
      "source": [
        "#리스트를 범위로 지정한 예\n",
        "list = [1,2,3,4,5]\n",
        "for c in list:\n",
        "  print(c)"
      ],
      "metadata": {
        "id": "-Ypyr3VD0Tpv"
      },
      "execution_count": null,
      "outputs": []
    },
    {
      "cell_type": "code",
      "source": [
        "#사전을 범위로 지정한 예\n",
        "ascii_codes = {'a':97,'b':98,'c':99}\n",
        "for c in ascii_codes:\n",
        "  print(c)"
      ],
      "metadata": {
        "id": "cspkaqJ_0iME"
      },
      "execution_count": null,
      "outputs": []
    },
    {
      "cell_type": "code",
      "source": [
        "#range() 함수를 범위로 지정한 예\n",
        "for c in range(10):\n",
        "  print(c)"
      ],
      "metadata": {
        "id": "JSTXhCoJ05Wx"
      },
      "execution_count": null,
      "outputs": []
    },
    {
      "cell_type": "code",
      "source": [
        "str = 'Time is money!!'\n",
        "print(str[::])\n",
        "print(str[:2])\n",
        "print(str[::2])\n",
        "print(str[::-2])\n",
        "print(str[2:7])"
      ],
      "metadata": {
        "id": "wWlQHIi_tSmV"
      },
      "execution_count": null,
      "outputs": []
    },
    {
      "cell_type": "code",
      "source": [
        "ARMY = \"I love BTS\"\n",
        "print(len(ARMY))"
      ],
      "metadata": {
        "id": "UVGOGI5PksGs"
      },
      "execution_count": null,
      "outputs": []
    },
    {
      "cell_type": "code",
      "source": [
        "list = ['BTS','DAY6','LUCY','CSW']\n",
        "print(list)\n",
        "list[3] = 'TWS'\n",
        "print(list)"
      ],
      "metadata": {
        "id": "ABRCSwXdngmF"
      },
      "execution_count": null,
      "outputs": []
    },
    {
      "cell_type": "code",
      "source": [
        "list = ['Sleep','Music','Cat','Dog']\n",
        "print(list[::2])"
      ],
      "metadata": {
        "id": "2ey17NA0pj67"
      },
      "execution_count": null,
      "outputs": []
    },
    {
      "cell_type": "code",
      "source": [
        "x = 800\n",
        "y = 500\n",
        "\n",
        "if x < y:\n",
        "  print(\"잔액이 부족합니다.\")\n",
        "else:\n",
        "  print(\"결제가 완료되었습니다.\")"
      ],
      "metadata": {
        "id": "Ijy4MOZVC1eC"
      },
      "execution_count": null,
      "outputs": []
    },
    {
      "cell_type": "code",
      "source": [
        "BTS = ['RM', 'JIN', 'SUGA', 'J-HOPE', 'JIMIN', 'V', 'JUNGKOOK']\n",
        "\n",
        "for i in BTS:\n",
        "  print(i)"
      ],
      "metadata": {
        "id": "BOMaV54vH2ia"
      },
      "execution_count": null,
      "outputs": []
    },
    {
      "cell_type": "code",
      "source": [
        "for i in range(4):\n",
        "  print(i)\n",
        "\n",
        "type(i)"
      ],
      "metadata": {
        "id": "qx-ocN0zIUAV"
      },
      "execution_count": null,
      "outputs": []
    },
    {
      "cell_type": "code",
      "source": [
        "list_Actor = [\"조승우\", \"박형식\", \"연우진\", \"김성철\", \"이진욱\", \"남궁민\", \"이도현\"]\n",
        "\n",
        "for i in list_Actor:\n",
        "  print(i)"
      ],
      "metadata": {
        "id": "ik1m-fR-Ijnj"
      },
      "execution_count": null,
      "outputs": []
    },
    {
      "cell_type": "code",
      "source": [
        "import re\n",
        "text = \"김석진, 지석진, 하석진, 백이진, 민희진, 전못진, 진라면\"\n",
        "pattern = r\".진\"\n",
        "\n",
        "matches = re.findall(pattern, text)\n",
        "\n",
        "for i in matches:\n",
        "  print(\"Match:\",i)"
      ],
      "metadata": {
        "id": "4MEIgrKCGI--"
      },
      "execution_count": null,
      "outputs": []
    },
    {
      "cell_type": "code",
      "source": [
        "import re\n",
        "text = \"김석진, 지석진, 하석진, 백이진, 민희진, 전못진, 진라면\"\n",
        "pattern = r\".석진\"\n",
        "\n",
        "matches = re.findall(pattern, text)\n",
        "\n",
        "for i in matches:\n",
        "  print(\"Match:\", i)"
      ],
      "metadata": {
        "id": "nKrRWR-GHyI6"
      },
      "execution_count": null,
      "outputs": []
    },
    {
      "cell_type": "code",
      "source": [
        "import re\n",
        "text = \"김석진, 지석진, 하석진, 백이진, 민희지니, 전못진, 진라면\"\n",
        "pattern = r\".석+진\"\n",
        "\n",
        "matches = re.findall(pattern, text)\n",
        "\n",
        "for i in matches:\n",
        "  print(\"Match:\", i)"
      ],
      "metadata": {
        "id": "G5o6sXA1IStL"
      },
      "execution_count": null,
      "outputs": []
    },
    {
      "cell_type": "code",
      "source": [
        "import re\n",
        "text = \"송은석, 변우석, 손석구, 김석우, 석갈비, 김석진, 양석형\"\n",
        "pattern = r\".석+진\"\n",
        "\n",
        "matches = re.findall(pattern, text)\n",
        "\n",
        "for i in matches:\n",
        "  print(\"Match:\", i)"
      ],
      "metadata": {
        "id": "0su_MdESIuzw"
      },
      "execution_count": null,
      "outputs": []
    },
    {
      "cell_type": "code",
      "source": [
        "import re\n",
        "text = \"어느 날 우리 집 현관으로 멸망이 들어왔다.\"\n",
        "pattern = r\".다$\"\n",
        "\n",
        "matches =re.findall(pattern, text)\n",
        "\n",
        "for i in matches:\n",
        "  print(\"Match:\", i)"
      ],
      "metadata": {
        "id": "Kcn7LHBoJTCT"
      },
      "execution_count": null,
      "outputs": []
    },
    {
      "cell_type": "code",
      "source": [
        "import re\n",
        "text = \"어느 날 우리 집 현관으로 멸망이 들어왔다\"\n",
        "pattern = r\".다$\"\n",
        "\n",
        "matches =re.findall(pattern, text)\n",
        "\n",
        "for i in matches:\n",
        "  print(\"Match:\", i)"
      ],
      "metadata": {
        "id": "RiJGbt-UJqRZ"
      },
      "execution_count": null,
      "outputs": []
    },
    {
      "cell_type": "code",
      "source": [
        "import re\n",
        "text = \"정신병동에도 아침이 와요\"\n",
        "pattern = r\"^정\"\n",
        "\n",
        "matches = re.findall(pattern, text)\n",
        "for i in matches:\n",
        "  print(\"Match:\", i)"
      ],
      "metadata": {
        "id": "EMVcE_ZsJ9v_"
      },
      "execution_count": null,
      "outputs": []
    },
    {
      "cell_type": "code",
      "source": [
        "import re\n",
        "text = \"멱살 한 번 잡힙시다\"\n",
        "pattern = r\"^한\"\n",
        "\n",
        "matches =  re.findall(pattern, text)\n",
        "for i in matches:\n",
        "  print(\"Match:\", i)"
      ],
      "metadata": {
        "id": "GAJ9s6jujZs4"
      },
      "execution_count": null,
      "outputs": []
    },
    {
      "cell_type": "code",
      "source": [
        "import re\n",
        "text = \"악의 마음을 읽는 자들\"\n",
        "pattern = r\"들$\"\n",
        "\n",
        "matches = re.findall(pattern, text)\n",
        "for d in matches:\n",
        "  print(\"Match:\", d)"
      ],
      "metadata": {
        "id": "Ck7XZgzwju3o"
      },
      "execution_count": null,
      "outputs": []
    },
    {
      "cell_type": "code",
      "source": [
        "import re\n",
        "text = \"시청 앞 지하철 역에서\"\n",
        "pattern = r'시'\n",
        "\n",
        "matches = re.findall(pattern, text)\n",
        "for j in matches:\n",
        "  print(\"Match:\", j)"
      ],
      "metadata": {
        "id": "muP-4_WipSiQ"
      },
      "execution_count": null,
      "outputs": []
    },
    {
      "cell_type": "code",
      "source": [
        "import re\n",
        "text = \"슬기로운 의사생활\"\n",
        "pattern = r'슬'\n",
        "pattern1 = r'의'\n",
        "\n",
        "matches = re.findall(pattern, text)\n",
        "for doctor in matches:\n",
        "  print(doctor)\n",
        "\n",
        "matches = re.findall(pattern1, text)\n",
        "for doctor in matches:\n",
        "  print(doctor)"
      ],
      "metadata": {
        "id": "Q-2woF6Upnb9"
      },
      "execution_count": null,
      "outputs": []
    },
    {
      "cell_type": "code",
      "source": [
        "import re\n",
        "text = \"슬기로운 의사생활, 슬기로운 감빵생활\"\n",
        "pattern = r'슬기로운'\n",
        "\n",
        "matches = re.findall(pattern, text)\n",
        "\n",
        "for i in matches:\n",
        "  print(i)"
      ],
      "metadata": {
        "id": "TMtyIJVaqEzm"
      },
      "execution_count": null,
      "outputs": []
    },
    {
      "cell_type": "code",
      "source": [
        "scope = [3, 13, 23, 33, 43, 52]\n",
        "for i in scope:\n",
        "  print(i)\n",
        "  if i < 40:\n",
        "    continue\n",
        "  else:\n",
        "    break"
      ],
      "metadata": {
        "id": "Rm7Nz_Aul5A-"
      },
      "execution_count": null,
      "outputs": []
    },
    {
      "cell_type": "code",
      "source": [
        "scope = [3, 13, 23, 33, 43, 52]\n",
        "for i in scope:\n",
        "  if i < 40:\n",
        "    print(i)\n",
        "    continue\n",
        "  else:\n",
        "    break"
      ],
      "metadata": {
        "id": "hHU2XpBxoCzP"
      },
      "execution_count": null,
      "outputs": []
    },
    {
      "cell_type": "code",
      "source": [
        "#015\n",
        "val = None #값이 존재하지 않는 변수에 대입하여 이 변수에 아무런 값이 없다는 것을 나타내기 위해 주로 활용.\n",
        "condition = 1\n",
        "if condition == 1:\n",
        "  val = [1,2,3]\n",
        "else:\n",
        "  val = 'I love Python'"
      ],
      "metadata": {
        "id": "aurmvhxposLX"
      },
      "execution_count": null,
      "outputs": []
    },
    {
      "cell_type": "code",
      "source": [
        "#016\n",
        "int_data = 10\n",
        "bin_data = 0b10\n",
        "oct_data = 0o10\n",
        "hex_data = 0x10\n",
        "long_data = 1234567890123456789\n",
        "\n",
        "print(int_data)\n",
        "print(bin_data)\n",
        "print(oct_data)\n",
        "print(hex_data)\n",
        "print(long_data)"
      ],
      "metadata": {
        "id": "juzFyk_-zIq7"
      },
      "execution_count": null,
      "outputs": []
    },
    {
      "cell_type": "code",
      "source": [
        "#017\n",
        "f1 = 1.0\n",
        "f2 = 3.14\n",
        "f3 = 1.56e3\n",
        "f4 = -0.7e-4\n",
        "\n",
        "print(f1)\n",
        "print(f2)\n",
        "print(f3)\n",
        "print(f4)"
      ],
      "metadata": {
        "id": "WWCowS1Y0Se8"
      },
      "execution_count": null,
      "outputs": []
    },
    {
      "cell_type": "code",
      "source": [
        "import re\n",
        "text = \"2018 멜론뮤직어워드\"\n",
        "\n",
        "pattern = r'[0-9]'\n",
        "matches = re.findall(pattern, text)\n",
        "\n",
        "for i in matches:\n",
        "  print(\"Match:\", i)"
      ],
      "metadata": {
        "id": "x8p7bL-h99u-"
      },
      "execution_count": null,
      "outputs": []
    },
    {
      "cell_type": "code",
      "source": [
        "import re\n",
        "text = \"Permission To Dance\"\n",
        "\n",
        "pattern = r'[a-zA-Z]'\n",
        "matches = re.findall(pattern, text)\n",
        "\n",
        "for i in matches:\n",
        "  print(\"Match:\", i)"
      ],
      "metadata": {
        "id": "4L3Ay7Hh-P3H"
      },
      "execution_count": null,
      "outputs": []
    },
    {
      "cell_type": "code",
      "source": [
        "import re\n",
        "text = \"Permission To Dance\"\n",
        "\n",
        "pattern = r'[A-Z]'\n",
        "matches = re.findall(pattern, text)\n",
        "\n",
        "for i in matches:\n",
        "  print(\"Match:\", i)"
      ],
      "metadata": {
        "id": "k8tuovTq-r6N"
      },
      "execution_count": null,
      "outputs": []
    },
    {
      "cell_type": "code",
      "source": [
        "import re\n",
        "text = \"Permission To Dance\"\n",
        "\n",
        "pattern = r'[a-z]'\n",
        "matches = re.findall(pattern, text)\n",
        "\n",
        "for i in matches:\n",
        "  print(\"Match:\", i)"
      ],
      "metadata": {
        "id": "n5VJj2ZY_W0J"
      },
      "execution_count": null,
      "outputs": []
    },
    {
      "cell_type": "code",
      "source": [
        "def add_txt(t1, t2):\n",
        "    t_result = t1 + t2\n",
        "    return t_result"
      ],
      "metadata": {
        "id": "x2DiUuPXLfhf"
      },
      "execution_count": null,
      "outputs": []
    },
    {
      "cell_type": "code",
      "source": [
        "def add_txt(A, B):\n",
        "    c_result = A + B\n",
        "    return c_result"
      ],
      "metadata": {
        "id": "itIXqtJALgx3"
      },
      "execution_count": null,
      "outputs": []
    },
    {
      "cell_type": "code",
      "source": [
        "def add_txt(t1, t2):\n",
        "    result = t1 + t2\n",
        "    return result\n",
        "\n",
        "text1 = \"Hello, \"\n",
        "text2 = \"World!\"\n",
        "\n",
        "combined_text = add_txt(text1,text2)\n",
        "\n",
        "print(combined_text)"
      ],
      "metadata": {
        "id": "mnQNAqR7L9Uv"
      },
      "execution_count": null,
      "outputs": []
    },
    {
      "cell_type": "code",
      "source": [
        "def add_txt(A, B):\n",
        "    result = A + B\n",
        "    return result\n",
        "\n",
        "a = \"Hello, \"\n",
        "b = \"World!\"\n",
        "\n",
        "combined_text = add_txt(a,b)\n",
        "\n",
        "print(combined_text)"
      ],
      "metadata": {
        "id": "5R1LOCOLL_ZZ"
      },
      "execution_count": null,
      "outputs": []
    },
    {
      "cell_type": "code",
      "source": [
        "import pandas as pd\n",
        "dict_data = {'c0': [1, 2, 3], 'c1': [4, 5, 6], 'c2': [7, 8, 9], 'c3': [10, 11, 12], 'c4': [13, 14, 15]}\n",
        "\n",
        "df = pd.DataFrame(dict_data)\n",
        "print(df)\n",
        "print('\\n')\n",
        "print(type(df))"
      ],
      "metadata": {
        "id": "VNHmydFhCcYR"
      },
      "execution_count": null,
      "outputs": []
    },
    {
      "cell_type": "code",
      "source": [
        "class FourCal:\n",
        "  def setdata(self, first, second):\n",
        "    self.first = first\n",
        "    self.second = second\n",
        "\n",
        "c = FourCal()\n",
        "d = FourCal()"
      ],
      "metadata": {
        "id": "j377jpfeDPtW"
      },
      "execution_count": null,
      "outputs": []
    }
  ]
}