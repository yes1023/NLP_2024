{
  "nbformat": 4,
  "nbformat_minor": 0,
  "metadata": {
    "colab": {
      "private_outputs": true,
      "provenance": [],
      "include_colab_link": true
    },
    "kernelspec": {
      "name": "python3",
      "display_name": "Python 3"
    },
    "language_info": {
      "name": "python"
    }
  },
  "cells": [
    {
      "cell_type": "markdown",
      "metadata": {
        "id": "view-in-github",
        "colab_type": "text"
      },
      "source": [
        "<a href=\"https://colab.research.google.com/github/yes1023/NLP_2024/blob/main/python%20practice.ipynb\" target=\"_parent\"><img src=\"https://colab.research.google.com/assets/colab-badge.svg\" alt=\"Open In Colab\"/></a>"
      ]
    },
    {
      "cell_type": "code",
      "source": [
        "#006\n",
        "int_data = 1 #정수 선언\n",
        "float_data = 3.14 #실수 선언\n",
        "complex_data = 1 + 5j #복소수 선언\n",
        "str_data1 = 'I love Python' #문자열 선언(영문)\n",
        "str_data2 = \"반갑습니다.\" #문자열 선언(한글)\n",
        "list_data = [1, 2, 3] #리스트 선언\n",
        "tuple_data = (1, 2, 3) #튜플 선언\n",
        "dict_data = {0:'False', 1:'True'} #사전 선언"
      ],
      "metadata": {
        "id": "p5wti0yxBzeE"
      },
      "execution_count": null,
      "outputs": []
    },
    {
      "cell_type": "code",
      "source": [
        "#007\n",
        "a = 200\n",
        "msg = 'I love Python'\n",
        "list_data = ['a', 'b', 'c']\n",
        "dict_data = {'a':97, 'b':98}\n",
        "print(a)\n",
        "print(msg)\n",
        "print(list_data)\n",
        "print(list_data[0])\n",
        "print(dict_data)\n",
        "print(dict_data['a'])"
      ],
      "metadata": {
        "id": "ZRrFO81kLuCL"
      },
      "execution_count": null,
      "outputs": []
    },
    {
      "cell_type": "code",
      "source": [
        "#008\n",
        "listdata = ['a', 'b', 'c']\n",
        "if 'a' in listdata:\n",
        "    print('a가 listdata에 있습니다.')\n",
        "    print(listdata)\n",
        "else:\n",
        "    print('a가 listdata에 존재하지 않습니다.')"
      ],
      "metadata": {
        "id": "nOHnEVIW8Wxl"
      },
      "execution_count": null,
      "outputs": []
    },
    {
      "cell_type": "code",
      "source": [
        "#009\n",
        "x = 1\n",
        "y = 2\n",
        "if x >= y:\n",
        "    print('x가 y보다 크거나 같습니다.')\n",
        "else:\n",
        "    print('x가 y보다 작습니다.')"
      ],
      "metadata": {
        "id": "ERfWIhul9nMi"
      },
      "execution_count": null,
      "outputs": []
    },
    {
      "cell_type": "code",
      "source": [
        "#010\n",
        "x = 1\n",
        "y = 2\n",
        "if x > y:\n",
        "    print('x가 y보다 큽니다.')\n",
        "elif x < y:\n",
        "    print('x가 y보다 작습니다.')\n",
        "else:\n",
        "    print('x와 y가 깉습니다.')"
      ],
      "metadata": {
        "id": "VVTVIXGTt3Nr"
      },
      "execution_count": null,
      "outputs": []
    },
    {
      "cell_type": "code",
      "source": [
        "#011\n",
        "scope = [1,2,3,4,5]\n",
        "for x in scope:\n",
        "    print(x)"
      ],
      "metadata": {
        "id": "PMa9PBU2zNFZ"
      },
      "execution_count": null,
      "outputs": []
    },
    {
      "cell_type": "code",
      "source": [
        "#문자열을 범위로 지정한 예\n",
        "str = 'abcdef'\n",
        "for c in str:\n",
        "  print(c)"
      ],
      "metadata": {
        "id": "klGOXi2Hzv3s"
      },
      "execution_count": null,
      "outputs": []
    },
    {
      "cell_type": "code",
      "source": [
        "#리스트를 범위로 지정한 예\n",
        "list = [1,2,3,4,5]\n",
        "for c in list:\n",
        "  print(c)"
      ],
      "metadata": {
        "id": "-Ypyr3VD0Tpv"
      },
      "execution_count": null,
      "outputs": []
    },
    {
      "cell_type": "code",
      "source": [
        "#사전을 범위로 지정한 예\n",
        "ascii_codes = {'a':97,'b':98,'c':99}\n",
        "for c in ascii_codes:\n",
        "  print(c)"
      ],
      "metadata": {
        "id": "cspkaqJ_0iME"
      },
      "execution_count": null,
      "outputs": []
    },
    {
      "cell_type": "code",
      "source": [
        "#range() 함수를 범위로 지정한 예\n",
        "for c in range(10):\n",
        "  print(c)"
      ],
      "metadata": {
        "id": "JSTXhCoJ05Wx"
      },
      "execution_count": null,
      "outputs": []
    },
    {
      "cell_type": "code",
      "source": [
        "str = 'Time is money!!'\n",
        "print(str[::])\n",
        "print(str[:2])\n",
        "print(str[::2])\n",
        "print(str[::-2])\n",
        "print(str[2:7])"
      ],
      "metadata": {
        "id": "wWlQHIi_tSmV"
      },
      "execution_count": null,
      "outputs": []
    },
    {
      "cell_type": "code",
      "source": [
        "ARMY = \"I love BTS\"\n",
        "print(len(ARMY))"
      ],
      "metadata": {
        "id": "UVGOGI5PksGs"
      },
      "execution_count": null,
      "outputs": []
    },
    {
      "cell_type": "code",
      "source": [
        "list = ['BTS','DAY6','LUCY','CSW']\n",
        "print(list)\n",
        "list[3] = 'TWS'\n",
        "print(list)"
      ],
      "metadata": {
        "id": "ABRCSwXdngmF"
      },
      "execution_count": null,
      "outputs": []
    },
    {
      "cell_type": "code",
      "source": [
        "list = ['Sleep','Music','Cat','Dog']\n",
        "print(list[::2])"
      ],
      "metadata": {
        "id": "2ey17NA0pj67"
      },
      "execution_count": null,
      "outputs": []
    },
    {
      "cell_type": "code",
      "source": [
        "x = 800\n",
        "y = 500\n",
        "\n",
        "if x < y:\n",
        "  print(\"잔액이 부족합니다.\")\n",
        "else:\n",
        "  print(\"결제가 완료되었습니다.\")"
      ],
      "metadata": {
        "id": "Ijy4MOZVC1eC"
      },
      "execution_count": null,
      "outputs": []
    },
    {
      "cell_type": "code",
      "source": [
        "BTS = ['RM', 'JIN', 'SUGA', 'J-HOPE', 'JIMIN', 'V', 'JUNGKOOK']\n",
        "\n",
        "for i in BTS:\n",
        "  print(i)"
      ],
      "metadata": {
        "id": "BOMaV54vH2ia"
      },
      "execution_count": null,
      "outputs": []
    },
    {
      "cell_type": "code",
      "source": [
        "for i in range(4):\n",
        "  print(i)\n",
        "\n",
        "type(i)"
      ],
      "metadata": {
        "id": "qx-ocN0zIUAV"
      },
      "execution_count": null,
      "outputs": []
    },
    {
      "cell_type": "code",
      "source": [
        "list_Actor = [\"조승우\", \"박형식\", \"연우진\", \"김성철\", \"이진욱\", \"남궁민\", \"이도현\"]\n",
        "\n",
        "for i in list_Actor:\n",
        "  print(i)"
      ],
      "metadata": {
        "id": "ik1m-fR-Ijnj"
      },
      "execution_count": null,
      "outputs": []
    },
    {
      "cell_type": "code",
      "source": [
        "import re\n",
        "text = \"김석진, 지석진, 하석진, 백이진, 민희진, 전못진, 진라면\"\n",
        "pattern = r\".진\"\n",
        "\n",
        "matches = re.findall(pattern, text)\n",
        "\n",
        "for i in matches:\n",
        "  print(\"Match:\",i)"
      ],
      "metadata": {
        "id": "4MEIgrKCGI--"
      },
      "execution_count": null,
      "outputs": []
    },
    {
      "cell_type": "code",
      "source": [
        "import re\n",
        "text = \"김석진, 지석진, 하석진, 백이진, 민희진, 전못진, 진라면\"\n",
        "pattern = r\".석진\"\n",
        "\n",
        "matches = re.findall(pattern, text)\n",
        "\n",
        "for i in matches:\n",
        "  print(\"Match:\", i)"
      ],
      "metadata": {
        "id": "nKrRWR-GHyI6"
      },
      "execution_count": null,
      "outputs": []
    }
  ]
}