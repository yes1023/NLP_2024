{
  "nbformat": 4,
  "nbformat_minor": 0,
  "metadata": {
    "colab": {
      "private_outputs": true,
      "provenance": [],
      "authorship_tag": "ABX9TyP6QGT5LcutJsbqKwjn8SZY",
      "include_colab_link": true
    },
    "kernelspec": {
      "name": "python3",
      "display_name": "Python 3"
    },
    "language_info": {
      "name": "python"
    }
  },
  "cells": [
    {
      "cell_type": "markdown",
      "metadata": {
        "id": "view-in-github",
        "colab_type": "text"
      },
      "source": [
        "<a href=\"https://colab.research.google.com/github/yes1023/NLP_2024/blob/main/python%20practice.ipynb\" target=\"_parent\"><img src=\"https://colab.research.google.com/assets/colab-badge.svg\" alt=\"Open In Colab\"/></a>"
      ]
    },
    {
      "cell_type": "code",
      "execution_count": null,
      "metadata": {
        "id": "kshlVQXbBo_o"
      },
      "outputs": [],
      "source": [
        "print('안녕하세요')"
      ]
    },
    {
      "cell_type": "code",
      "source": [
        "int_data = 1 #정수 선언\n",
        "float_data = 3.14 #실수 선언\n",
        "complex_data = 1 + 5j #복소수 선언\n",
        "str_data1 = 'I love Python' #문자열 선언(영문)\n",
        "str_data2 = \"반갑습니다.\" #문자열 선언(한글)\n",
        "list_data = [1, 2, 3] #리스트 선언\n",
        "tuple_data = (1, 2, 3) #튜플 선언\n",
        "dict_data = {0:'False', 1:'True'} #사전 선언"
      ],
      "metadata": {
        "id": "p5wti0yxBzeE"
      },
      "execution_count": null,
      "outputs": []
    }
  ]
}