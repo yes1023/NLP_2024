{
  "nbformat": 4,
  "nbformat_minor": 0,
  "metadata": {
    "colab": {
      "provenance": [],
      "include_colab_link": true
    },
    "kernelspec": {
      "name": "python3",
      "display_name": "Python 3"
    },
    "language_info": {
      "name": "python"
    }
  },
  "cells": [
    {
      "cell_type": "markdown",
      "metadata": {
        "id": "view-in-github",
        "colab_type": "text"
      },
      "source": [
        "<a href=\"https://colab.research.google.com/github/yes1023/NLP_2024/blob/main/00_MarkDown4README_md.ipynb\" target=\"_parent\"><img src=\"https://colab.research.google.com/assets/colab-badge.svg\" alt=\"Open In Colab\"/></a>"
      ]
    },
    {
      "cell_type": "markdown",
      "source": [
        "# 🐶🐱☁️ **How to Use <font color = 'red'> Markdown Language**\n",
        "\n",
        "* ## For <font color = 'yellowgreen'> more syntax</font> of markdown language, [Click Here!](https://www.markdownguide.org/basic-syntax/)"
      ],
      "metadata": {
        "id": "i81pJR5EsCJ3"
      }
    },
    {
      "cell_type": "markdown",
      "source": [
        "\n",
        "\n",
        "# NLP_2024\n",
        "\n",
        "# 🐻🐯 **Python Language**\n",
        "\n",
        "## **Learning Python** using **Colab** ([Visit Colab Homepage](https://colab.research.google.com/))and **Github** ([Visit Github Homepage](https://github.com/))\n",
        "\n",
        "\n",
        "### **1. Sign up Github** ([Visit a tutorial on Youtube](https://www.youtube.com/watch?v=c-NikCpec7U))\n",
        "### **2. Sign up Google Colaboratory** (aka. Colab) ([Visit a tutorial on Youtube](https://www.youtube.com/watch?v=2X_EU18OeYM))\n",
        "\n",
        "### **3. Useful References**\n",
        "- Exercises 200 파이썬200제 by 장삼용.정보문화사 2017\n",
        "- [Jump to Python](https://wikidocs.net/book/1)\n",
        "- [wikidocs for nltk](https://wikidocs.net/21667)\n",
        "\n",
        "### **4. Markdown Language**\n",
        "* [Emoji](https://gist.github.com/rxaviers/7360908)\n",
        "* [Markdown syntax](https://www.markdownguide.org/basic-syntax/)\n",
        "\n",
        "### **5. Class Materials**\n",
        "| # | Sessions | Keywords |\n",
        "|:--:|:--:|:--:|\n",
        "|1| Markdown Language ⭐ |font size, font color, bullet point [syntax](https://www.markdownguide.org/basic-syntax/)|\n",
        "|2|Generating code cells 🐿️|codelines, run(execute) |"
      ],
      "metadata": {
        "id": "l2NT2UoRxpls"
      }
    }
  ]
}